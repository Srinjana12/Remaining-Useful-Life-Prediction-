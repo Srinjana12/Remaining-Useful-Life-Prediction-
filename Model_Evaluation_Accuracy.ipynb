{
  "cells": [
    {
      "cell_type": "code",
      "execution_count": 1,
      "metadata": {
        "colab": {
          "base_uri": "https://localhost:8080/",
          "height": 455
        },
        "id": "i0cEflRPw1q7",
        "outputId": "cd2d9256-ec80-4671-993a-6e0bace7c692"
      },
      "outputs": [
        {
          "data": {
            "text/html": [
              "\n",
              "     <input type=\"file\" id=\"files-ad156779-18a6-4a0f-812f-4a4b3f4b42fe\" name=\"files[]\" multiple disabled\n",
              "        style=\"border:none\" />\n",
              "     <output id=\"result-ad156779-18a6-4a0f-812f-4a4b3f4b42fe\">\n",
              "      Upload widget is only available when the cell has been executed in the\n",
              "      current browser session. Please rerun this cell to enable.\n",
              "      </output>\n",
              "      <script>// Copyright 2017 Google LLC\n",
              "//\n",
              "// Licensed under the Apache License, Version 2.0 (the \"License\");\n",
              "// you may not use this file except in compliance with the License.\n",
              "// You may obtain a copy of the License at\n",
              "//\n",
              "//      http://www.apache.org/licenses/LICENSE-2.0\n",
              "//\n",
              "// Unless required by applicable law or agreed to in writing, software\n",
              "// distributed under the License is distributed on an \"AS IS\" BASIS,\n",
              "// WITHOUT WARRANTIES OR CONDITIONS OF ANY KIND, either express or implied.\n",
              "// See the License for the specific language governing permissions and\n",
              "// limitations under the License.\n",
              "\n",
              "/**\n",
              " * @fileoverview Helpers for google.colab Python module.\n",
              " */\n",
              "(function(scope) {\n",
              "function span(text, styleAttributes = {}) {\n",
              "  const element = document.createElement('span');\n",
              "  element.textContent = text;\n",
              "  for (const key of Object.keys(styleAttributes)) {\n",
              "    element.style[key] = styleAttributes[key];\n",
              "  }\n",
              "  return element;\n",
              "}\n",
              "\n",
              "// Max number of bytes which will be uploaded at a time.\n",
              "const MAX_PAYLOAD_SIZE = 100 * 1024;\n",
              "\n",
              "function _uploadFiles(inputId, outputId) {\n",
              "  const steps = uploadFilesStep(inputId, outputId);\n",
              "  const outputElement = document.getElementById(outputId);\n",
              "  // Cache steps on the outputElement to make it available for the next call\n",
              "  // to uploadFilesContinue from Python.\n",
              "  outputElement.steps = steps;\n",
              "\n",
              "  return _uploadFilesContinue(outputId);\n",
              "}\n",
              "\n",
              "// This is roughly an async generator (not supported in the browser yet),\n",
              "// where there are multiple asynchronous steps and the Python side is going\n",
              "// to poll for completion of each step.\n",
              "// This uses a Promise to block the python side on completion of each step,\n",
              "// then passes the result of the previous step as the input to the next step.\n",
              "function _uploadFilesContinue(outputId) {\n",
              "  const outputElement = document.getElementById(outputId);\n",
              "  const steps = outputElement.steps;\n",
              "\n",
              "  const next = steps.next(outputElement.lastPromiseValue);\n",
              "  return Promise.resolve(next.value.promise).then((value) => {\n",
              "    // Cache the last promise value to make it available to the next\n",
              "    // step of the generator.\n",
              "    outputElement.lastPromiseValue = value;\n",
              "    return next.value.response;\n",
              "  });\n",
              "}\n",
              "\n",
              "/**\n",
              " * Generator function which is called between each async step of the upload\n",
              " * process.\n",
              " * @param {string} inputId Element ID of the input file picker element.\n",
              " * @param {string} outputId Element ID of the output display.\n",
              " * @return {!Iterable<!Object>} Iterable of next steps.\n",
              " */\n",
              "function* uploadFilesStep(inputId, outputId) {\n",
              "  const inputElement = document.getElementById(inputId);\n",
              "  inputElement.disabled = false;\n",
              "\n",
              "  const outputElement = document.getElementById(outputId);\n",
              "  outputElement.innerHTML = '';\n",
              "\n",
              "  const pickedPromise = new Promise((resolve) => {\n",
              "    inputElement.addEventListener('change', (e) => {\n",
              "      resolve(e.target.files);\n",
              "    });\n",
              "  });\n",
              "\n",
              "  const cancel = document.createElement('button');\n",
              "  inputElement.parentElement.appendChild(cancel);\n",
              "  cancel.textContent = 'Cancel upload';\n",
              "  const cancelPromise = new Promise((resolve) => {\n",
              "    cancel.onclick = () => {\n",
              "      resolve(null);\n",
              "    };\n",
              "  });\n",
              "\n",
              "  // Wait for the user to pick the files.\n",
              "  const files = yield {\n",
              "    promise: Promise.race([pickedPromise, cancelPromise]),\n",
              "    response: {\n",
              "      action: 'starting',\n",
              "    }\n",
              "  };\n",
              "\n",
              "  cancel.remove();\n",
              "\n",
              "  // Disable the input element since further picks are not allowed.\n",
              "  inputElement.disabled = true;\n",
              "\n",
              "  if (!files) {\n",
              "    return {\n",
              "      response: {\n",
              "        action: 'complete',\n",
              "      }\n",
              "    };\n",
              "  }\n",
              "\n",
              "  for (const file of files) {\n",
              "    const li = document.createElement('li');\n",
              "    li.append(span(file.name, {fontWeight: 'bold'}));\n",
              "    li.append(span(\n",
              "        `(${file.type || 'n/a'}) - ${file.size} bytes, ` +\n",
              "        `last modified: ${\n",
              "            file.lastModifiedDate ? file.lastModifiedDate.toLocaleDateString() :\n",
              "                                    'n/a'} - `));\n",
              "    const percent = span('0% done');\n",
              "    li.appendChild(percent);\n",
              "\n",
              "    outputElement.appendChild(li);\n",
              "\n",
              "    const fileDataPromise = new Promise((resolve) => {\n",
              "      const reader = new FileReader();\n",
              "      reader.onload = (e) => {\n",
              "        resolve(e.target.result);\n",
              "      };\n",
              "      reader.readAsArrayBuffer(file);\n",
              "    });\n",
              "    // Wait for the data to be ready.\n",
              "    let fileData = yield {\n",
              "      promise: fileDataPromise,\n",
              "      response: {\n",
              "        action: 'continue',\n",
              "      }\n",
              "    };\n",
              "\n",
              "    // Use a chunked sending to avoid message size limits. See b/62115660.\n",
              "    let position = 0;\n",
              "    do {\n",
              "      const length = Math.min(fileData.byteLength - position, MAX_PAYLOAD_SIZE);\n",
              "      const chunk = new Uint8Array(fileData, position, length);\n",
              "      position += length;\n",
              "\n",
              "      const base64 = btoa(String.fromCharCode.apply(null, chunk));\n",
              "      yield {\n",
              "        response: {\n",
              "          action: 'append',\n",
              "          file: file.name,\n",
              "          data: base64,\n",
              "        },\n",
              "      };\n",
              "\n",
              "      let percentDone = fileData.byteLength === 0 ?\n",
              "          100 :\n",
              "          Math.round((position / fileData.byteLength) * 100);\n",
              "      percent.textContent = `${percentDone}% done`;\n",
              "\n",
              "    } while (position < fileData.byteLength);\n",
              "  }\n",
              "\n",
              "  // All done.\n",
              "  yield {\n",
              "    response: {\n",
              "      action: 'complete',\n",
              "    }\n",
              "  };\n",
              "}\n",
              "\n",
              "scope.google = scope.google || {};\n",
              "scope.google.colab = scope.google.colab || {};\n",
              "scope.google.colab._files = {\n",
              "  _uploadFiles,\n",
              "  _uploadFilesContinue,\n",
              "};\n",
              "})(self);\n",
              "</script> "
            ],
            "text/plain": [
              "<IPython.core.display.HTML object>"
            ]
          },
          "metadata": {},
          "output_type": "display_data"
        },
        {
          "name": "stdout",
          "output_type": "stream",
          "text": [
            "Saving RUL_FD001.txt to RUL_FD001.txt\n",
            "Saving RUL_FD002.txt to RUL_FD002.txt\n",
            "Saving RUL_FD003.txt to RUL_FD003.txt\n",
            "Saving RUL_FD004.txt to RUL_FD004.txt\n",
            "Saving test_FD001.txt to test_FD001.txt\n",
            "Saving test_FD002.txt to test_FD002.txt\n",
            "Saving test_FD003.txt to test_FD003.txt\n",
            "Saving test_FD004.txt to test_FD004.txt\n",
            "Saving train_FD001.txt to train_FD001.txt\n",
            "Saving train_FD002.txt to train_FD002.txt\n",
            "Saving train_FD003.txt to train_FD003.txt\n",
            "Saving train_FD004.txt to train_FD004.txt\n"
          ]
        }
      ],
      "source": [
        "from google.colab import files\n",
        "uploaded = files.upload()"
      ]
    },
    {
      "cell_type": "code",
      "execution_count": 2,
      "metadata": {
        "id": "VWp02iWjxiKI"
      },
      "outputs": [],
      "source": [
        "import pandas as pd\n",
        "\n",
        "# Define columns\n",
        "cols = ['id', 'cycle', 'setting1', 'setting2', 'setting3'] + \\\n",
        "       [f'sensor{i}' for i in range(1, 22)]\n",
        "\n",
        "# Helper to load and clean CMAPSS files\n",
        "def load_and_clean(file_path):\n",
        "    df = pd.read_csv(file_path, sep='\\s+', header=None)\n",
        "    df.columns = cols\n",
        "    return df\n",
        "\n",
        "# Load training datasets\n",
        "train_1 = load_and_clean(\"train_FD001.txt\")\n",
        "train_2 = load_and_clean(\"train_FD002.txt\")\n",
        "train_3 = load_and_clean(\"train_FD003.txt\")\n",
        "train_4 = load_and_clean(\"train_FD004.txt\")\n",
        "\n",
        "# Load testing datasets\n",
        "test_1 = load_and_clean(\"test_FD001.txt\")\n",
        "test_2 = load_and_clean(\"test_FD002.txt\")\n",
        "test_3 = load_and_clean(\"test_FD003.txt\")\n",
        "test_4 = load_and_clean(\"test_FD004.txt\")\n",
        "\n",
        "# Load RUL files (single-column)\n",
        "rul_1 = pd.read_csv(\"RUL_FD001.txt\", header=None)\n",
        "rul_2 = pd.read_csv(\"RUL_FD002.txt\", header=None)\n",
        "rul_3 = pd.read_csv(\"RUL_FD003.txt\", header=None)\n",
        "rul_4 = pd.read_csv(\"RUL_FD004.txt\", header=None)\n"
      ]
    },
    {
      "cell_type": "code",
      "execution_count": 3,
      "metadata": {
        "id": "CHY85Lb8zdvQ"
      },
      "outputs": [],
      "source": [
        "cols = ['id', 'cycle', 'setting1', 'setting2', 'setting3'] + \\\n",
        "       [f'sensor{i}' for i in range(1, 22)]\n"
      ]
    },
    {
      "cell_type": "code",
      "execution_count": 4,
      "metadata": {
        "id": "V1L8n0BUzewT"
      },
      "outputs": [],
      "source": [
        "import pandas as pd\n",
        "\n",
        "def load_and_tag_train(file_path, dataset_tag):\n",
        "    df = pd.read_csv(file_path, sep='\\\\s+', header=None)\n",
        "    df.columns = cols\n",
        "    df[\"dataset\"] = dataset_tag\n",
        "    return df\n"
      ]
    },
    {
      "cell_type": "code",
      "execution_count": 5,
      "metadata": {
        "id": "rKIGpOtmzhtg"
      },
      "outputs": [],
      "source": [
        "train_1 = load_and_tag_train(\"train_FD001.txt\", \"FD001\")\n",
        "train_2 = load_and_tag_train(\"train_FD002.txt\", \"FD002\")\n",
        "train_3 = load_and_tag_train(\"train_FD003.txt\", \"FD003\")\n",
        "train_4 = load_and_tag_train(\"train_FD004.txt\", \"FD004\")\n"
      ]
    },
    {
      "cell_type": "code",
      "execution_count": 6,
      "metadata": {
        "id": "U93jivhvzmJ5"
      },
      "outputs": [],
      "source": [
        "train_all = pd.concat([train_1, train_2, train_3, train_4], axis=0).reset_index(drop=True)\n"
      ]
    },
    {
      "cell_type": "code",
      "execution_count": 7,
      "metadata": {
        "id": "wFTbe7nQzppK"
      },
      "outputs": [],
      "source": [
        "def load_and_tag_test(file_path, dataset_tag):\n",
        "    df = pd.read_csv(file_path, sep='\\\\s+', header=None)\n",
        "    df.columns = cols\n",
        "    df[\"dataset\"] = dataset_tag\n",
        "    return df\n",
        "\n",
        "test_1 = load_and_tag_test(\"test_FD001.txt\", \"FD001\")\n",
        "test_2 = load_and_tag_test(\"test_FD002.txt\", \"FD002\")\n",
        "test_3 = load_and_tag_test(\"test_FD003.txt\", \"FD003\")\n",
        "test_4 = load_and_tag_test(\"test_FD004.txt\", \"FD004\")\n"
      ]
    },
    {
      "cell_type": "code",
      "execution_count": 8,
      "metadata": {
        "id": "nRYAfCZ-zqqV"
      },
      "outputs": [],
      "source": [
        "rul_1 = pd.read_csv(\"RUL_FD001.txt\", header=None)\n",
        "rul_2 = pd.read_csv(\"RUL_FD002.txt\", header=None)\n",
        "rul_3 = pd.read_csv(\"RUL_FD003.txt\", header=None)\n",
        "rul_4 = pd.read_csv(\"RUL_FD004.txt\", header=None)\n"
      ]
    },
    {
      "cell_type": "code",
      "execution_count": 9,
      "metadata": {
        "colab": {
          "base_uri": "https://localhost:8080/"
        },
        "id": "DoPWJZ9HzvBS",
        "outputId": "1d03255b-d1e7-4a59-9fc9-f6c5b80b083f"
      },
      "outputs": [
        {
          "name": "stdout",
          "output_type": "stream",
          "text": [
            "   id  cycle  setting1  setting2  setting3  sensor1  sensor2  sensor3  \\\n",
            "0   1      1   -0.0007   -0.0004     100.0   518.67   641.82  1589.70   \n",
            "1   1      2    0.0019   -0.0003     100.0   518.67   642.15  1591.82   \n",
            "2   1      3   -0.0043    0.0003     100.0   518.67   642.35  1587.99   \n",
            "3   1      4    0.0007    0.0000     100.0   518.67   642.35  1582.79   \n",
            "4   1      5   -0.0019   -0.0002     100.0   518.67   642.37  1582.85   \n",
            "\n",
            "   sensor4  sensor5  ...  sensor13  sensor14  sensor15  sensor16  sensor17  \\\n",
            "0  1400.60    14.62  ...   2388.02   8138.62    8.4195      0.03       392   \n",
            "1  1403.14    14.62  ...   2388.07   8131.49    8.4318      0.03       392   \n",
            "2  1404.20    14.62  ...   2388.03   8133.23    8.4178      0.03       390   \n",
            "3  1401.87    14.62  ...   2388.08   8133.83    8.3682      0.03       392   \n",
            "4  1406.22    14.62  ...   2388.04   8133.80    8.4294      0.03       393   \n",
            "\n",
            "   sensor18  sensor19  sensor20  sensor21  dataset  \n",
            "0      2388     100.0     39.06   23.4190    FD001  \n",
            "1      2388     100.0     39.00   23.4236    FD001  \n",
            "2      2388     100.0     38.95   23.3442    FD001  \n",
            "3      2388     100.0     38.88   23.3739    FD001  \n",
            "4      2388     100.0     38.90   23.4044    FD001  \n",
            "\n",
            "[5 rows x 27 columns]\n",
            "dataset\n",
            "FD004    61249\n",
            "FD002    53759\n",
            "FD003    24720\n",
            "FD001    20631\n",
            "Name: count, dtype: int64\n",
            "   id  cycle  setting1  setting2  setting3  sensor1  sensor2  sensor3  \\\n",
            "0   1      1    0.0023    0.0003     100.0   518.67   643.02  1585.29   \n",
            "1   1      2   -0.0027   -0.0003     100.0   518.67   641.71  1588.45   \n",
            "2   1      3    0.0003    0.0001     100.0   518.67   642.46  1586.94   \n",
            "3   1      4    0.0042    0.0000     100.0   518.67   642.44  1584.12   \n",
            "4   1      5    0.0014    0.0000     100.0   518.67   642.51  1587.19   \n",
            "\n",
            "   sensor4  sensor5  ...  sensor13  sensor14  sensor15  sensor16  sensor17  \\\n",
            "0  1398.21    14.62  ...   2388.03   8125.55    8.4052      0.03       392   \n",
            "1  1395.42    14.62  ...   2388.06   8139.62    8.3803      0.03       393   \n",
            "2  1401.34    14.62  ...   2388.03   8130.10    8.4441      0.03       393   \n",
            "3  1406.42    14.62  ...   2388.05   8132.90    8.3917      0.03       391   \n",
            "4  1401.92    14.62  ...   2388.03   8129.54    8.4031      0.03       390   \n",
            "\n",
            "   sensor18  sensor19  sensor20  sensor21  dataset  \n",
            "0      2388     100.0     38.86   23.3735    FD001  \n",
            "1      2388     100.0     39.02   23.3916    FD001  \n",
            "2      2388     100.0     39.08   23.4166    FD001  \n",
            "3      2388     100.0     39.00   23.3737    FD001  \n",
            "4      2388     100.0     38.99   23.4130    FD001  \n",
            "\n",
            "[5 rows x 27 columns]\n"
          ]
        }
      ],
      "source": [
        "print(train_all.head())\n",
        "print(train_all[\"dataset\"].value_counts())\n",
        "print(test_1.head())\n"
      ]
    },
    {
      "cell_type": "markdown",
      "metadata": {
        "id": "d1cONVY10KWo"
      },
      "source": [
        "# Add RUL (Remaining Useful Life) Column to Training Data"
      ]
    },
    {
      "cell_type": "code",
      "execution_count": 10,
      "metadata": {
        "id": "2-iCsprbz23U"
      },
      "outputs": [],
      "source": [
        "def add_rul_column(df):\n",
        "    # Get max cycle for each engine ID\n",
        "    rul_df = df.groupby('id')['cycle'].max().reset_index()\n",
        "    rul_df.columns = ['id', 'max_cycle']\n",
        "\n",
        "    # Merge back into the original dataframe\n",
        "    df = df.merge(rul_df, on='id')\n",
        "\n",
        "    # Compute Remaining Useful Life\n",
        "    df['RUL'] = df['max_cycle'] - df['cycle']\n",
        "\n",
        "    # Drop helper column\n",
        "    df.drop('max_cycle', axis=1, inplace=True)\n",
        "\n",
        "    return df\n"
      ]
    },
    {
      "cell_type": "code",
      "execution_count": 11,
      "metadata": {
        "id": "w9H-FPX-0Qh_"
      },
      "outputs": [],
      "source": [
        "train_1 = add_rul_column(train_1)\n",
        "train_2 = add_rul_column(train_2)\n",
        "train_3 = add_rul_column(train_3)\n",
        "train_4 = add_rul_column(train_4)\n"
      ]
    },
    {
      "cell_type": "code",
      "execution_count": 12,
      "metadata": {
        "id": "gAldDF1W0Ri2"
      },
      "outputs": [],
      "source": [
        "train_all = add_rul_column(train_all)\n"
      ]
    },
    {
      "cell_type": "code",
      "execution_count": 13,
      "metadata": {
        "colab": {
          "base_uri": "https://localhost:8080/",
          "height": 206
        },
        "id": "XCFVyjqf0UFD",
        "outputId": "45345658-e8b2-4a46-c17d-e90c341a928c"
      },
      "outputs": [
        {
          "data": {
            "application/vnd.google.colaboratory.intrinsic+json": {
              "summary": "{\n  \"name\": \"train_1[['id', 'cycle', 'RUL']]\",\n  \"rows\": 5,\n  \"fields\": [\n    {\n      \"column\": \"id\",\n      \"properties\": {\n        \"dtype\": \"number\",\n        \"std\": 0,\n        \"min\": 1,\n        \"max\": 1,\n        \"num_unique_values\": 1,\n        \"samples\": [\n          1\n        ],\n        \"semantic_type\": \"\",\n        \"description\": \"\"\n      }\n    },\n    {\n      \"column\": \"cycle\",\n      \"properties\": {\n        \"dtype\": \"number\",\n        \"std\": 1,\n        \"min\": 1,\n        \"max\": 5,\n        \"num_unique_values\": 5,\n        \"samples\": [\n          2\n        ],\n        \"semantic_type\": \"\",\n        \"description\": \"\"\n      }\n    },\n    {\n      \"column\": \"RUL\",\n      \"properties\": {\n        \"dtype\": \"number\",\n        \"std\": 1,\n        \"min\": 187,\n        \"max\": 191,\n        \"num_unique_values\": 5,\n        \"samples\": [\n          190\n        ],\n        \"semantic_type\": \"\",\n        \"description\": \"\"\n      }\n    }\n  ]\n}",
              "type": "dataframe"
            },
            "text/html": [
              "\n",
              "  <div id=\"df-b3257909-81a0-4589-a790-52b14085f95c\" class=\"colab-df-container\">\n",
              "    <div>\n",
              "<style scoped>\n",
              "    .dataframe tbody tr th:only-of-type {\n",
              "        vertical-align: middle;\n",
              "    }\n",
              "\n",
              "    .dataframe tbody tr th {\n",
              "        vertical-align: top;\n",
              "    }\n",
              "\n",
              "    .dataframe thead th {\n",
              "        text-align: right;\n",
              "    }\n",
              "</style>\n",
              "<table border=\"1\" class=\"dataframe\">\n",
              "  <thead>\n",
              "    <tr style=\"text-align: right;\">\n",
              "      <th></th>\n",
              "      <th>id</th>\n",
              "      <th>cycle</th>\n",
              "      <th>RUL</th>\n",
              "    </tr>\n",
              "  </thead>\n",
              "  <tbody>\n",
              "    <tr>\n",
              "      <th>0</th>\n",
              "      <td>1</td>\n",
              "      <td>1</td>\n",
              "      <td>191</td>\n",
              "    </tr>\n",
              "    <tr>\n",
              "      <th>1</th>\n",
              "      <td>1</td>\n",
              "      <td>2</td>\n",
              "      <td>190</td>\n",
              "    </tr>\n",
              "    <tr>\n",
              "      <th>2</th>\n",
              "      <td>1</td>\n",
              "      <td>3</td>\n",
              "      <td>189</td>\n",
              "    </tr>\n",
              "    <tr>\n",
              "      <th>3</th>\n",
              "      <td>1</td>\n",
              "      <td>4</td>\n",
              "      <td>188</td>\n",
              "    </tr>\n",
              "    <tr>\n",
              "      <th>4</th>\n",
              "      <td>1</td>\n",
              "      <td>5</td>\n",
              "      <td>187</td>\n",
              "    </tr>\n",
              "  </tbody>\n",
              "</table>\n",
              "</div>\n",
              "    <div class=\"colab-df-buttons\">\n",
              "\n",
              "  <div class=\"colab-df-container\">\n",
              "    <button class=\"colab-df-convert\" onclick=\"convertToInteractive('df-b3257909-81a0-4589-a790-52b14085f95c')\"\n",
              "            title=\"Convert this dataframe to an interactive table.\"\n",
              "            style=\"display:none;\">\n",
              "\n",
              "  <svg xmlns=\"http://www.w3.org/2000/svg\" height=\"24px\" viewBox=\"0 -960 960 960\">\n",
              "    <path d=\"M120-120v-720h720v720H120Zm60-500h600v-160H180v160Zm220 220h160v-160H400v160Zm0 220h160v-160H400v160ZM180-400h160v-160H180v160Zm440 0h160v-160H620v160ZM180-180h160v-160H180v160Zm440 0h160v-160H620v160Z\"/>\n",
              "  </svg>\n",
              "    </button>\n",
              "\n",
              "  <style>\n",
              "    .colab-df-container {\n",
              "      display:flex;\n",
              "      gap: 12px;\n",
              "    }\n",
              "\n",
              "    .colab-df-convert {\n",
              "      background-color: #E8F0FE;\n",
              "      border: none;\n",
              "      border-radius: 50%;\n",
              "      cursor: pointer;\n",
              "      display: none;\n",
              "      fill: #1967D2;\n",
              "      height: 32px;\n",
              "      padding: 0 0 0 0;\n",
              "      width: 32px;\n",
              "    }\n",
              "\n",
              "    .colab-df-convert:hover {\n",
              "      background-color: #E2EBFA;\n",
              "      box-shadow: 0px 1px 2px rgba(60, 64, 67, 0.3), 0px 1px 3px 1px rgba(60, 64, 67, 0.15);\n",
              "      fill: #174EA6;\n",
              "    }\n",
              "\n",
              "    .colab-df-buttons div {\n",
              "      margin-bottom: 4px;\n",
              "    }\n",
              "\n",
              "    [theme=dark] .colab-df-convert {\n",
              "      background-color: #3B4455;\n",
              "      fill: #D2E3FC;\n",
              "    }\n",
              "\n",
              "    [theme=dark] .colab-df-convert:hover {\n",
              "      background-color: #434B5C;\n",
              "      box-shadow: 0px 1px 3px 1px rgba(0, 0, 0, 0.15);\n",
              "      filter: drop-shadow(0px 1px 2px rgba(0, 0, 0, 0.3));\n",
              "      fill: #FFFFFF;\n",
              "    }\n",
              "  </style>\n",
              "\n",
              "    <script>\n",
              "      const buttonEl =\n",
              "        document.querySelector('#df-b3257909-81a0-4589-a790-52b14085f95c button.colab-df-convert');\n",
              "      buttonEl.style.display =\n",
              "        google.colab.kernel.accessAllowed ? 'block' : 'none';\n",
              "\n",
              "      async function convertToInteractive(key) {\n",
              "        const element = document.querySelector('#df-b3257909-81a0-4589-a790-52b14085f95c');\n",
              "        const dataTable =\n",
              "          await google.colab.kernel.invokeFunction('convertToInteractive',\n",
              "                                                    [key], {});\n",
              "        if (!dataTable) return;\n",
              "\n",
              "        const docLinkHtml = 'Like what you see? Visit the ' +\n",
              "          '<a target=\"_blank\" href=https://colab.research.google.com/notebooks/data_table.ipynb>data table notebook</a>'\n",
              "          + ' to learn more about interactive tables.';\n",
              "        element.innerHTML = '';\n",
              "        dataTable['output_type'] = 'display_data';\n",
              "        await google.colab.output.renderOutput(dataTable, element);\n",
              "        const docLink = document.createElement('div');\n",
              "        docLink.innerHTML = docLinkHtml;\n",
              "        element.appendChild(docLink);\n",
              "      }\n",
              "    </script>\n",
              "  </div>\n",
              "\n",
              "\n",
              "<div id=\"df-f93c4e41-459b-43ca-9766-9c8f5db581b6\">\n",
              "  <button class=\"colab-df-quickchart\" onclick=\"quickchart('df-f93c4e41-459b-43ca-9766-9c8f5db581b6')\"\n",
              "            title=\"Suggest charts\"\n",
              "            style=\"display:none;\">\n",
              "\n",
              "<svg xmlns=\"http://www.w3.org/2000/svg\" height=\"24px\"viewBox=\"0 0 24 24\"\n",
              "     width=\"24px\">\n",
              "    <g>\n",
              "        <path d=\"M19 3H5c-1.1 0-2 .9-2 2v14c0 1.1.9 2 2 2h14c1.1 0 2-.9 2-2V5c0-1.1-.9-2-2-2zM9 17H7v-7h2v7zm4 0h-2V7h2v10zm4 0h-2v-4h2v4z\"/>\n",
              "    </g>\n",
              "</svg>\n",
              "  </button>\n",
              "\n",
              "<style>\n",
              "  .colab-df-quickchart {\n",
              "      --bg-color: #E8F0FE;\n",
              "      --fill-color: #1967D2;\n",
              "      --hover-bg-color: #E2EBFA;\n",
              "      --hover-fill-color: #174EA6;\n",
              "      --disabled-fill-color: #AAA;\n",
              "      --disabled-bg-color: #DDD;\n",
              "  }\n",
              "\n",
              "  [theme=dark] .colab-df-quickchart {\n",
              "      --bg-color: #3B4455;\n",
              "      --fill-color: #D2E3FC;\n",
              "      --hover-bg-color: #434B5C;\n",
              "      --hover-fill-color: #FFFFFF;\n",
              "      --disabled-bg-color: #3B4455;\n",
              "      --disabled-fill-color: #666;\n",
              "  }\n",
              "\n",
              "  .colab-df-quickchart {\n",
              "    background-color: var(--bg-color);\n",
              "    border: none;\n",
              "    border-radius: 50%;\n",
              "    cursor: pointer;\n",
              "    display: none;\n",
              "    fill: var(--fill-color);\n",
              "    height: 32px;\n",
              "    padding: 0;\n",
              "    width: 32px;\n",
              "  }\n",
              "\n",
              "  .colab-df-quickchart:hover {\n",
              "    background-color: var(--hover-bg-color);\n",
              "    box-shadow: 0 1px 2px rgba(60, 64, 67, 0.3), 0 1px 3px 1px rgba(60, 64, 67, 0.15);\n",
              "    fill: var(--button-hover-fill-color);\n",
              "  }\n",
              "\n",
              "  .colab-df-quickchart-complete:disabled,\n",
              "  .colab-df-quickchart-complete:disabled:hover {\n",
              "    background-color: var(--disabled-bg-color);\n",
              "    fill: var(--disabled-fill-color);\n",
              "    box-shadow: none;\n",
              "  }\n",
              "\n",
              "  .colab-df-spinner {\n",
              "    border: 2px solid var(--fill-color);\n",
              "    border-color: transparent;\n",
              "    border-bottom-color: var(--fill-color);\n",
              "    animation:\n",
              "      spin 1s steps(1) infinite;\n",
              "  }\n",
              "\n",
              "  @keyframes spin {\n",
              "    0% {\n",
              "      border-color: transparent;\n",
              "      border-bottom-color: var(--fill-color);\n",
              "      border-left-color: var(--fill-color);\n",
              "    }\n",
              "    20% {\n",
              "      border-color: transparent;\n",
              "      border-left-color: var(--fill-color);\n",
              "      border-top-color: var(--fill-color);\n",
              "    }\n",
              "    30% {\n",
              "      border-color: transparent;\n",
              "      border-left-color: var(--fill-color);\n",
              "      border-top-color: var(--fill-color);\n",
              "      border-right-color: var(--fill-color);\n",
              "    }\n",
              "    40% {\n",
              "      border-color: transparent;\n",
              "      border-right-color: var(--fill-color);\n",
              "      border-top-color: var(--fill-color);\n",
              "    }\n",
              "    60% {\n",
              "      border-color: transparent;\n",
              "      border-right-color: var(--fill-color);\n",
              "    }\n",
              "    80% {\n",
              "      border-color: transparent;\n",
              "      border-right-color: var(--fill-color);\n",
              "      border-bottom-color: var(--fill-color);\n",
              "    }\n",
              "    90% {\n",
              "      border-color: transparent;\n",
              "      border-bottom-color: var(--fill-color);\n",
              "    }\n",
              "  }\n",
              "</style>\n",
              "\n",
              "  <script>\n",
              "    async function quickchart(key) {\n",
              "      const quickchartButtonEl =\n",
              "        document.querySelector('#' + key + ' button');\n",
              "      quickchartButtonEl.disabled = true;  // To prevent multiple clicks.\n",
              "      quickchartButtonEl.classList.add('colab-df-spinner');\n",
              "      try {\n",
              "        const charts = await google.colab.kernel.invokeFunction(\n",
              "            'suggestCharts', [key], {});\n",
              "      } catch (error) {\n",
              "        console.error('Error during call to suggestCharts:', error);\n",
              "      }\n",
              "      quickchartButtonEl.classList.remove('colab-df-spinner');\n",
              "      quickchartButtonEl.classList.add('colab-df-quickchart-complete');\n",
              "    }\n",
              "    (() => {\n",
              "      let quickchartButtonEl =\n",
              "        document.querySelector('#df-f93c4e41-459b-43ca-9766-9c8f5db581b6 button');\n",
              "      quickchartButtonEl.style.display =\n",
              "        google.colab.kernel.accessAllowed ? 'block' : 'none';\n",
              "    })();\n",
              "  </script>\n",
              "</div>\n",
              "\n",
              "    </div>\n",
              "  </div>\n"
            ],
            "text/plain": [
              "   id  cycle  RUL\n",
              "0   1      1  191\n",
              "1   1      2  190\n",
              "2   1      3  189\n",
              "3   1      4  188\n",
              "4   1      5  187"
            ]
          },
          "execution_count": 13,
          "metadata": {},
          "output_type": "execute_result"
        }
      ],
      "source": [
        "train_1[['id', 'cycle', 'RUL']].head()\n"
      ]
    },
    {
      "cell_type": "code",
      "execution_count": 14,
      "metadata": {
        "colab": {
          "base_uri": "https://localhost:8080/",
          "height": 206
        },
        "id": "D4Zw2RW00gm_",
        "outputId": "46c0edff-f921-448f-cab1-9e17f16f39a3"
      },
      "outputs": [
        {
          "data": {
            "application/vnd.google.colaboratory.intrinsic+json": {
              "summary": "{\n  \"name\": \"train_all[['dataset', 'id', 'cycle', 'RUL']]\",\n  \"rows\": 5,\n  \"fields\": [\n    {\n      \"column\": \"dataset\",\n      \"properties\": {\n        \"dtype\": \"string\",\n        \"num_unique_values\": 3,\n        \"samples\": [\n          \"FD003\",\n          \"FD004\",\n          \"FD002\"\n        ],\n        \"semantic_type\": \"\",\n        \"description\": \"\"\n      }\n    },\n    {\n      \"column\": \"id\",\n      \"properties\": {\n        \"dtype\": \"number\",\n        \"std\": 67,\n        \"min\": 18,\n        \"max\": 180,\n        \"num_unique_values\": 5,\n        \"samples\": [\n          180,\n          22,\n          38\n        ],\n        \"semantic_type\": \"\",\n        \"description\": \"\"\n      }\n    },\n    {\n      \"column\": \"cycle\",\n      \"properties\": {\n        \"dtype\": \"number\",\n        \"std\": 44,\n        \"min\": 72,\n        \"max\": 175,\n        \"num_unique_values\": 5,\n        \"samples\": [\n          171,\n          175,\n          170\n        ],\n        \"semantic_type\": \"\",\n        \"description\": \"\"\n      }\n    },\n    {\n      \"column\": \"RUL\",\n      \"properties\": {\n        \"dtype\": \"number\",\n        \"std\": 141,\n        \"min\": 31,\n        \"max\": 375,\n        \"num_unique_values\": 5,\n        \"samples\": [\n          173,\n          36,\n          31\n        ],\n        \"semantic_type\": \"\",\n        \"description\": \"\"\n      }\n    }\n  ]\n}",
              "type": "dataframe"
            },
            "text/html": [
              "\n",
              "  <div id=\"df-dbbace08-8004-49f9-8b2d-0a8b198b1dd6\" class=\"colab-df-container\">\n",
              "    <div>\n",
              "<style scoped>\n",
              "    .dataframe tbody tr th:only-of-type {\n",
              "        vertical-align: middle;\n",
              "    }\n",
              "\n",
              "    .dataframe tbody tr th {\n",
              "        vertical-align: top;\n",
              "    }\n",
              "\n",
              "    .dataframe thead th {\n",
              "        text-align: right;\n",
              "    }\n",
              "</style>\n",
              "<table border=\"1\" class=\"dataframe\">\n",
              "  <thead>\n",
              "    <tr style=\"text-align: right;\">\n",
              "      <th></th>\n",
              "      <th>dataset</th>\n",
              "      <th>id</th>\n",
              "      <th>cycle</th>\n",
              "      <th>RUL</th>\n",
              "    </tr>\n",
              "  </thead>\n",
              "  <tbody>\n",
              "    <tr>\n",
              "      <th>94688</th>\n",
              "      <td>FD003</td>\n",
              "      <td>82</td>\n",
              "      <td>173</td>\n",
              "      <td>112</td>\n",
              "    </tr>\n",
              "    <tr>\n",
              "      <th>143859</th>\n",
              "      <td>FD004</td>\n",
              "      <td>180</td>\n",
              "      <td>171</td>\n",
              "      <td>173</td>\n",
              "    </tr>\n",
              "    <tr>\n",
              "      <th>28206</th>\n",
              "      <td>FD002</td>\n",
              "      <td>38</td>\n",
              "      <td>170</td>\n",
              "      <td>31</td>\n",
              "    </tr>\n",
              "    <tr>\n",
              "      <th>103686</th>\n",
              "      <td>FD004</td>\n",
              "      <td>18</td>\n",
              "      <td>72</td>\n",
              "      <td>375</td>\n",
              "    </tr>\n",
              "    <tr>\n",
              "      <th>24899</th>\n",
              "      <td>FD002</td>\n",
              "      <td>22</td>\n",
              "      <td>175</td>\n",
              "      <td>36</td>\n",
              "    </tr>\n",
              "  </tbody>\n",
              "</table>\n",
              "</div>\n",
              "    <div class=\"colab-df-buttons\">\n",
              "\n",
              "  <div class=\"colab-df-container\">\n",
              "    <button class=\"colab-df-convert\" onclick=\"convertToInteractive('df-dbbace08-8004-49f9-8b2d-0a8b198b1dd6')\"\n",
              "            title=\"Convert this dataframe to an interactive table.\"\n",
              "            style=\"display:none;\">\n",
              "\n",
              "  <svg xmlns=\"http://www.w3.org/2000/svg\" height=\"24px\" viewBox=\"0 -960 960 960\">\n",
              "    <path d=\"M120-120v-720h720v720H120Zm60-500h600v-160H180v160Zm220 220h160v-160H400v160Zm0 220h160v-160H400v160ZM180-400h160v-160H180v160Zm440 0h160v-160H620v160ZM180-180h160v-160H180v160Zm440 0h160v-160H620v160Z\"/>\n",
              "  </svg>\n",
              "    </button>\n",
              "\n",
              "  <style>\n",
              "    .colab-df-container {\n",
              "      display:flex;\n",
              "      gap: 12px;\n",
              "    }\n",
              "\n",
              "    .colab-df-convert {\n",
              "      background-color: #E8F0FE;\n",
              "      border: none;\n",
              "      border-radius: 50%;\n",
              "      cursor: pointer;\n",
              "      display: none;\n",
              "      fill: #1967D2;\n",
              "      height: 32px;\n",
              "      padding: 0 0 0 0;\n",
              "      width: 32px;\n",
              "    }\n",
              "\n",
              "    .colab-df-convert:hover {\n",
              "      background-color: #E2EBFA;\n",
              "      box-shadow: 0px 1px 2px rgba(60, 64, 67, 0.3), 0px 1px 3px 1px rgba(60, 64, 67, 0.15);\n",
              "      fill: #174EA6;\n",
              "    }\n",
              "\n",
              "    .colab-df-buttons div {\n",
              "      margin-bottom: 4px;\n",
              "    }\n",
              "\n",
              "    [theme=dark] .colab-df-convert {\n",
              "      background-color: #3B4455;\n",
              "      fill: #D2E3FC;\n",
              "    }\n",
              "\n",
              "    [theme=dark] .colab-df-convert:hover {\n",
              "      background-color: #434B5C;\n",
              "      box-shadow: 0px 1px 3px 1px rgba(0, 0, 0, 0.15);\n",
              "      filter: drop-shadow(0px 1px 2px rgba(0, 0, 0, 0.3));\n",
              "      fill: #FFFFFF;\n",
              "    }\n",
              "  </style>\n",
              "\n",
              "    <script>\n",
              "      const buttonEl =\n",
              "        document.querySelector('#df-dbbace08-8004-49f9-8b2d-0a8b198b1dd6 button.colab-df-convert');\n",
              "      buttonEl.style.display =\n",
              "        google.colab.kernel.accessAllowed ? 'block' : 'none';\n",
              "\n",
              "      async function convertToInteractive(key) {\n",
              "        const element = document.querySelector('#df-dbbace08-8004-49f9-8b2d-0a8b198b1dd6');\n",
              "        const dataTable =\n",
              "          await google.colab.kernel.invokeFunction('convertToInteractive',\n",
              "                                                    [key], {});\n",
              "        if (!dataTable) return;\n",
              "\n",
              "        const docLinkHtml = 'Like what you see? Visit the ' +\n",
              "          '<a target=\"_blank\" href=https://colab.research.google.com/notebooks/data_table.ipynb>data table notebook</a>'\n",
              "          + ' to learn more about interactive tables.';\n",
              "        element.innerHTML = '';\n",
              "        dataTable['output_type'] = 'display_data';\n",
              "        await google.colab.output.renderOutput(dataTable, element);\n",
              "        const docLink = document.createElement('div');\n",
              "        docLink.innerHTML = docLinkHtml;\n",
              "        element.appendChild(docLink);\n",
              "      }\n",
              "    </script>\n",
              "  </div>\n",
              "\n",
              "\n",
              "<div id=\"df-67f748f4-81f2-4c25-af09-b47d3a1eb6da\">\n",
              "  <button class=\"colab-df-quickchart\" onclick=\"quickchart('df-67f748f4-81f2-4c25-af09-b47d3a1eb6da')\"\n",
              "            title=\"Suggest charts\"\n",
              "            style=\"display:none;\">\n",
              "\n",
              "<svg xmlns=\"http://www.w3.org/2000/svg\" height=\"24px\"viewBox=\"0 0 24 24\"\n",
              "     width=\"24px\">\n",
              "    <g>\n",
              "        <path d=\"M19 3H5c-1.1 0-2 .9-2 2v14c0 1.1.9 2 2 2h14c1.1 0 2-.9 2-2V5c0-1.1-.9-2-2-2zM9 17H7v-7h2v7zm4 0h-2V7h2v10zm4 0h-2v-4h2v4z\"/>\n",
              "    </g>\n",
              "</svg>\n",
              "  </button>\n",
              "\n",
              "<style>\n",
              "  .colab-df-quickchart {\n",
              "      --bg-color: #E8F0FE;\n",
              "      --fill-color: #1967D2;\n",
              "      --hover-bg-color: #E2EBFA;\n",
              "      --hover-fill-color: #174EA6;\n",
              "      --disabled-fill-color: #AAA;\n",
              "      --disabled-bg-color: #DDD;\n",
              "  }\n",
              "\n",
              "  [theme=dark] .colab-df-quickchart {\n",
              "      --bg-color: #3B4455;\n",
              "      --fill-color: #D2E3FC;\n",
              "      --hover-bg-color: #434B5C;\n",
              "      --hover-fill-color: #FFFFFF;\n",
              "      --disabled-bg-color: #3B4455;\n",
              "      --disabled-fill-color: #666;\n",
              "  }\n",
              "\n",
              "  .colab-df-quickchart {\n",
              "    background-color: var(--bg-color);\n",
              "    border: none;\n",
              "    border-radius: 50%;\n",
              "    cursor: pointer;\n",
              "    display: none;\n",
              "    fill: var(--fill-color);\n",
              "    height: 32px;\n",
              "    padding: 0;\n",
              "    width: 32px;\n",
              "  }\n",
              "\n",
              "  .colab-df-quickchart:hover {\n",
              "    background-color: var(--hover-bg-color);\n",
              "    box-shadow: 0 1px 2px rgba(60, 64, 67, 0.3), 0 1px 3px 1px rgba(60, 64, 67, 0.15);\n",
              "    fill: var(--button-hover-fill-color);\n",
              "  }\n",
              "\n",
              "  .colab-df-quickchart-complete:disabled,\n",
              "  .colab-df-quickchart-complete:disabled:hover {\n",
              "    background-color: var(--disabled-bg-color);\n",
              "    fill: var(--disabled-fill-color);\n",
              "    box-shadow: none;\n",
              "  }\n",
              "\n",
              "  .colab-df-spinner {\n",
              "    border: 2px solid var(--fill-color);\n",
              "    border-color: transparent;\n",
              "    border-bottom-color: var(--fill-color);\n",
              "    animation:\n",
              "      spin 1s steps(1) infinite;\n",
              "  }\n",
              "\n",
              "  @keyframes spin {\n",
              "    0% {\n",
              "      border-color: transparent;\n",
              "      border-bottom-color: var(--fill-color);\n",
              "      border-left-color: var(--fill-color);\n",
              "    }\n",
              "    20% {\n",
              "      border-color: transparent;\n",
              "      border-left-color: var(--fill-color);\n",
              "      border-top-color: var(--fill-color);\n",
              "    }\n",
              "    30% {\n",
              "      border-color: transparent;\n",
              "      border-left-color: var(--fill-color);\n",
              "      border-top-color: var(--fill-color);\n",
              "      border-right-color: var(--fill-color);\n",
              "    }\n",
              "    40% {\n",
              "      border-color: transparent;\n",
              "      border-right-color: var(--fill-color);\n",
              "      border-top-color: var(--fill-color);\n",
              "    }\n",
              "    60% {\n",
              "      border-color: transparent;\n",
              "      border-right-color: var(--fill-color);\n",
              "    }\n",
              "    80% {\n",
              "      border-color: transparent;\n",
              "      border-right-color: var(--fill-color);\n",
              "      border-bottom-color: var(--fill-color);\n",
              "    }\n",
              "    90% {\n",
              "      border-color: transparent;\n",
              "      border-bottom-color: var(--fill-color);\n",
              "    }\n",
              "  }\n",
              "</style>\n",
              "\n",
              "  <script>\n",
              "    async function quickchart(key) {\n",
              "      const quickchartButtonEl =\n",
              "        document.querySelector('#' + key + ' button');\n",
              "      quickchartButtonEl.disabled = true;  // To prevent multiple clicks.\n",
              "      quickchartButtonEl.classList.add('colab-df-spinner');\n",
              "      try {\n",
              "        const charts = await google.colab.kernel.invokeFunction(\n",
              "            'suggestCharts', [key], {});\n",
              "      } catch (error) {\n",
              "        console.error('Error during call to suggestCharts:', error);\n",
              "      }\n",
              "      quickchartButtonEl.classList.remove('colab-df-spinner');\n",
              "      quickchartButtonEl.classList.add('colab-df-quickchart-complete');\n",
              "    }\n",
              "    (() => {\n",
              "      let quickchartButtonEl =\n",
              "        document.querySelector('#df-67f748f4-81f2-4c25-af09-b47d3a1eb6da button');\n",
              "      quickchartButtonEl.style.display =\n",
              "        google.colab.kernel.accessAllowed ? 'block' : 'none';\n",
              "    })();\n",
              "  </script>\n",
              "</div>\n",
              "\n",
              "    </div>\n",
              "  </div>\n"
            ],
            "text/plain": [
              "       dataset   id  cycle  RUL\n",
              "94688    FD003   82    173  112\n",
              "143859   FD004  180    171  173\n",
              "28206    FD002   38    170   31\n",
              "103686   FD004   18     72  375\n",
              "24899    FD002   22    175   36"
            ]
          },
          "execution_count": 14,
          "metadata": {},
          "output_type": "execute_result"
        }
      ],
      "source": [
        "train_all[['dataset', 'id', 'cycle', 'RUL']].sample(5)"
      ]
    },
    {
      "cell_type": "code",
      "execution_count": 15,
      "metadata": {
        "colab": {
          "base_uri": "https://localhost:8080/",
          "height": 241
        },
        "id": "rj2_A1bf1FS6",
        "outputId": "51019b2e-0385-4ae9-87da-03bdff4a70b4"
      },
      "outputs": [
        {
          "data": {
            "text/html": [
              "<div>\n",
              "<style scoped>\n",
              "    .dataframe tbody tr th:only-of-type {\n",
              "        vertical-align: middle;\n",
              "    }\n",
              "\n",
              "    .dataframe tbody tr th {\n",
              "        vertical-align: top;\n",
              "    }\n",
              "\n",
              "    .dataframe thead th {\n",
              "        text-align: right;\n",
              "    }\n",
              "</style>\n",
              "<table border=\"1\" class=\"dataframe\">\n",
              "  <thead>\n",
              "    <tr style=\"text-align: right;\">\n",
              "      <th></th>\n",
              "      <th>count</th>\n",
              "    </tr>\n",
              "    <tr>\n",
              "      <th>dataset</th>\n",
              "      <th></th>\n",
              "    </tr>\n",
              "  </thead>\n",
              "  <tbody>\n",
              "    <tr>\n",
              "      <th>FD004</th>\n",
              "      <td>61249</td>\n",
              "    </tr>\n",
              "    <tr>\n",
              "      <th>FD002</th>\n",
              "      <td>53759</td>\n",
              "    </tr>\n",
              "    <tr>\n",
              "      <th>FD003</th>\n",
              "      <td>24720</td>\n",
              "    </tr>\n",
              "    <tr>\n",
              "      <th>FD001</th>\n",
              "      <td>20631</td>\n",
              "    </tr>\n",
              "  </tbody>\n",
              "</table>\n",
              "</div><br><label><b>dtype:</b> int64</label>"
            ],
            "text/plain": [
              "dataset\n",
              "FD004    61249\n",
              "FD002    53759\n",
              "FD003    24720\n",
              "FD001    20631\n",
              "Name: count, dtype: int64"
            ]
          },
          "execution_count": 15,
          "metadata": {},
          "output_type": "execute_result"
        }
      ],
      "source": [
        "train_all['dataset'].value_counts()\n"
      ]
    },
    {
      "cell_type": "code",
      "execution_count": null,
      "metadata": {
        "colab": {
          "base_uri": "https://localhost:8080/"
        },
        "id": "NDrFiP5g1onC",
        "outputId": "5204ec0d-4b26-46be-b180-bc1bd511b841"
      },
      "outputs": [
        {
          "name": "stdout",
          "output_type": "stream",
          "text": [
            "✅ Final useful features:\n",
            "['sensor10', 'sensor11', 'sensor12', 'sensor13', 'sensor14', 'sensor15', 'sensor16', 'sensor17', 'sensor2', 'sensor20', 'sensor21', 'sensor3', 'sensor4', 'sensor6', 'sensor7', 'sensor8', 'sensor9', 'setting1', 'setting2', 'setting3', 'cycle_ratio']\n"
          ]
        }
      ],
      "source": [
        "def get_useful_features(df, target_col='RUL', variance_thresh=1e-5, corr_thresh=0.02):\n",
        "    feature_cols = [col for col in df.columns if col.startswith('setting') or col.startswith('sensor')]\n",
        "\n",
        "    # Step 1: Variance filter\n",
        "    var_series = df[feature_cols].var()\n",
        "    high_var_features = var_series[var_series > variance_thresh].index.tolist()\n",
        "\n",
        "    # Step 2: Correlation filter with RUL\n",
        "    corr_series = df[high_var_features + [target_col]].corr()[target_col].drop(target_col)\n",
        "    useful = corr_series[abs(corr_series) > corr_thresh].index.tolist()\n",
        "\n",
        "    \n",
        "    for setting in ['setting1', 'setting2', 'setting3']:\n",
        "        if setting not in useful:\n",
        "            useful.append(setting)\n",
        "\n",
        "    return useful\n",
        "\n",
        "# Compute useful features from each dataset\n",
        "feature_sets = {\n",
        "    'FD001': set(get_useful_features(train_1)),\n",
        "    'FD002': set(get_useful_features(train_2)),\n",
        "    'FD003': set(get_useful_features(train_3)),\n",
        "    'FD004': set(get_useful_features(train_4)),\n",
        "}\n",
        "\n",
        "\n",
        "union_useful_features = sorted(list(set.union(*feature_sets.values())))\n",
        "useful_features = union_useful_features\n",
        "\n",
        "#\n",
        "if \"cycle_ratio\" not in useful_features:\n",
        "    useful_features.append(\"cycle_ratio\")\n",
        "\n",
        "\n",
        "print(\"✅ Final useful features:\")\n",
        "print(useful_features)\n"
      ]
    },
    {
      "cell_type": "code",
      "execution_count": null,
      "metadata": {
        "colab": {
          "base_uri": "https://localhost:8080/"
        },
        "id": "bgGm7g2XC79P",
        "outputId": "e4e18ad8-d041-41c5-aaf4-83501842f283"
      },
      "outputs": [
        {
          "name": "stdout",
          "output_type": "stream",
          "text": [
            "✅ Saved feature order to feature_order.json\n"
          ]
        }
      ],
      "source": [
        "import json\n",
        "\n",
        "# Save the feature list to a JSON file\n",
        "with open(\"feature_order.json\", \"w\") as f:\n",
        "    json.dump(useful_features, f)\n",
        "\n",
        "print(\"Saved feature order to feature_order.json\")\n"
      ]
    },
    {
      "cell_type": "code",
      "execution_count": 18,
      "metadata": {
        "colab": {
          "base_uri": "https://localhost:8080/",
          "height": 17
        },
        "id": "9pB7j6MWDSRA",
        "outputId": "62c3632c-a1b4-4d73-eac3-59bb6950e69f"
      },
      "outputs": [
        {
          "data": {
            "application/javascript": "\n    async function download(id, filename, size) {\n      if (!google.colab.kernel.accessAllowed) {\n        return;\n      }\n      const div = document.createElement('div');\n      const label = document.createElement('label');\n      label.textContent = `Downloading \"${filename}\": `;\n      div.appendChild(label);\n      const progress = document.createElement('progress');\n      progress.max = size;\n      div.appendChild(progress);\n      document.body.appendChild(div);\n\n      const buffers = [];\n      let downloaded = 0;\n\n      const channel = await google.colab.kernel.comms.open(id);\n      // Send a message to notify the kernel that we're ready.\n      channel.send({})\n\n      for await (const message of channel.messages) {\n        // Send a message to notify the kernel that we're ready.\n        channel.send({})\n        if (message.buffers) {\n          for (const buffer of message.buffers) {\n            buffers.push(buffer);\n            downloaded += buffer.byteLength;\n            progress.value = downloaded;\n          }\n        }\n      }\n      const blob = new Blob(buffers, {type: 'application/binary'});\n      const a = document.createElement('a');\n      a.href = window.URL.createObjectURL(blob);\n      a.download = filename;\n      div.appendChild(a);\n      a.click();\n      div.remove();\n    }\n  ",
            "text/plain": [
              "<IPython.core.display.Javascript object>"
            ]
          },
          "metadata": {},
          "output_type": "display_data"
        },
        {
          "data": {
            "application/javascript": "download(\"download_837bad94-d564-40e3-98be-5b58e4ec44f2\", \"feature_order.json\", 248)",
            "text/plain": [
              "<IPython.core.display.Javascript object>"
            ]
          },
          "metadata": {},
          "output_type": "display_data"
        }
      ],
      "source": [
        "from google.colab import files\n",
        "files.download(\"feature_order.json\")\n"
      ]
    },
    {
      "cell_type": "code",
      "execution_count": 45,
      "metadata": {
        "id": "gGiHKEfT1HbS"
      },
      "outputs": [],
      "source": [
        "from sklearn.preprocessing import StandardScaler\n",
        "\n",
        "scalers = {}\n",
        "normalized_dfs = []\n",
        "\n",
        "for dset in train_all['dataset'].unique():\n",
        "    subset = train_all[train_all['dataset'] == dset].copy()\n",
        "\n",
        "\n",
        "    max_cycle = subset.groupby('id')['cycle'].transform('max')\n",
        "    subset['cycle_ratio'] = subset['cycle'] / max_cycle\n",
        "\n",
        "    scaler = StandardScaler()\n",
        "    subset[useful_features] = scaler.fit_transform(subset[useful_features])\n",
        "\n",
        "    scalers[dset] = scaler\n",
        "    normalized_dfs.append(subset)"
      ]
    },
    {
      "cell_type": "code",
      "execution_count": 46,
      "metadata": {
        "id": "E5Fe_ymJ1uMS"
      },
      "outputs": [],
      "source": [
        "train_all_normalized = pd.concat(normalized_dfs).reset_index(drop=True)"
      ]
    },
    {
      "cell_type": "markdown",
      "metadata": {
        "id": "BKWHha8i2Fqo"
      },
      "source": [
        "# Linear Regression(Baseline Model)"
      ]
    },
    {
      "cell_type": "markdown",
      "metadata": {
        "id": "842WjK_x2MQI"
      },
      "source": [
        " Preparing Input and Target"
      ]
    },
    {
      "cell_type": "code",
      "execution_count": 47,
      "metadata": {
        "id": "-c95MIEQ2QAF"
      },
      "outputs": [],
      "source": [
        "from sklearn.model_selection import train_test_split\n",
        "\n",
        "# Features and target\n",
        "X = train_all_normalized[useful_features]\n",
        "y = train_all_normalized['RUL']\n",
        "\n",
        "# Train/Validation Split\n",
        "X_train, X_val, y_train, y_val = train_test_split(X, y, test_size=0.2, random_state=42)\n"
      ]
    },
    {
      "cell_type": "markdown",
      "metadata": {
        "id": "A54W5WY02X2H"
      },
      "source": [
        "Train the Linear Regression Model"
      ]
    },
    {
      "cell_type": "code",
      "execution_count": 48,
      "metadata": {
        "colab": {
          "base_uri": "https://localhost:8080/",
          "height": 80
        },
        "id": "vsCESGEQ2U-x",
        "outputId": "a2359e44-586a-4a72-ab84-ed92de26553d"
      },
      "outputs": [
        {
          "data": {
            "text/html": [
              "<style>#sk-container-id-2 {\n",
              "  /* Definition of color scheme common for light and dark mode */\n",
              "  --sklearn-color-text: #000;\n",
              "  --sklearn-color-text-muted: #666;\n",
              "  --sklearn-color-line: gray;\n",
              "  /* Definition of color scheme for unfitted estimators */\n",
              "  --sklearn-color-unfitted-level-0: #fff5e6;\n",
              "  --sklearn-color-unfitted-level-1: #f6e4d2;\n",
              "  --sklearn-color-unfitted-level-2: #ffe0b3;\n",
              "  --sklearn-color-unfitted-level-3: chocolate;\n",
              "  /* Definition of color scheme for fitted estimators */\n",
              "  --sklearn-color-fitted-level-0: #f0f8ff;\n",
              "  --sklearn-color-fitted-level-1: #d4ebff;\n",
              "  --sklearn-color-fitted-level-2: #b3dbfd;\n",
              "  --sklearn-color-fitted-level-3: cornflowerblue;\n",
              "\n",
              "  /* Specific color for light theme */\n",
              "  --sklearn-color-text-on-default-background: var(--sg-text-color, var(--theme-code-foreground, var(--jp-content-font-color1, black)));\n",
              "  --sklearn-color-background: var(--sg-background-color, var(--theme-background, var(--jp-layout-color0, white)));\n",
              "  --sklearn-color-border-box: var(--sg-text-color, var(--theme-code-foreground, var(--jp-content-font-color1, black)));\n",
              "  --sklearn-color-icon: #696969;\n",
              "\n",
              "  @media (prefers-color-scheme: dark) {\n",
              "    /* Redefinition of color scheme for dark theme */\n",
              "    --sklearn-color-text-on-default-background: var(--sg-text-color, var(--theme-code-foreground, var(--jp-content-font-color1, white)));\n",
              "    --sklearn-color-background: var(--sg-background-color, var(--theme-background, var(--jp-layout-color0, #111)));\n",
              "    --sklearn-color-border-box: var(--sg-text-color, var(--theme-code-foreground, var(--jp-content-font-color1, white)));\n",
              "    --sklearn-color-icon: #878787;\n",
              "  }\n",
              "}\n",
              "\n",
              "#sk-container-id-2 {\n",
              "  color: var(--sklearn-color-text);\n",
              "}\n",
              "\n",
              "#sk-container-id-2 pre {\n",
              "  padding: 0;\n",
              "}\n",
              "\n",
              "#sk-container-id-2 input.sk-hidden--visually {\n",
              "  border: 0;\n",
              "  clip: rect(1px 1px 1px 1px);\n",
              "  clip: rect(1px, 1px, 1px, 1px);\n",
              "  height: 1px;\n",
              "  margin: -1px;\n",
              "  overflow: hidden;\n",
              "  padding: 0;\n",
              "  position: absolute;\n",
              "  width: 1px;\n",
              "}\n",
              "\n",
              "#sk-container-id-2 div.sk-dashed-wrapped {\n",
              "  border: 1px dashed var(--sklearn-color-line);\n",
              "  margin: 0 0.4em 0.5em 0.4em;\n",
              "  box-sizing: border-box;\n",
              "  padding-bottom: 0.4em;\n",
              "  background-color: var(--sklearn-color-background);\n",
              "}\n",
              "\n",
              "#sk-container-id-2 div.sk-container {\n",
              "  /* jupyter's `normalize.less` sets `[hidden] { display: none; }`\n",
              "     but bootstrap.min.css set `[hidden] { display: none !important; }`\n",
              "     so we also need the `!important` here to be able to override the\n",
              "     default hidden behavior on the sphinx rendered scikit-learn.org.\n",
              "     See: https://github.com/scikit-learn/scikit-learn/issues/21755 */\n",
              "  display: inline-block !important;\n",
              "  position: relative;\n",
              "}\n",
              "\n",
              "#sk-container-id-2 div.sk-text-repr-fallback {\n",
              "  display: none;\n",
              "}\n",
              "\n",
              "div.sk-parallel-item,\n",
              "div.sk-serial,\n",
              "div.sk-item {\n",
              "  /* draw centered vertical line to link estimators */\n",
              "  background-image: linear-gradient(var(--sklearn-color-text-on-default-background), var(--sklearn-color-text-on-default-background));\n",
              "  background-size: 2px 100%;\n",
              "  background-repeat: no-repeat;\n",
              "  background-position: center center;\n",
              "}\n",
              "\n",
              "/* Parallel-specific style estimator block */\n",
              "\n",
              "#sk-container-id-2 div.sk-parallel-item::after {\n",
              "  content: \"\";\n",
              "  width: 100%;\n",
              "  border-bottom: 2px solid var(--sklearn-color-text-on-default-background);\n",
              "  flex-grow: 1;\n",
              "}\n",
              "\n",
              "#sk-container-id-2 div.sk-parallel {\n",
              "  display: flex;\n",
              "  align-items: stretch;\n",
              "  justify-content: center;\n",
              "  background-color: var(--sklearn-color-background);\n",
              "  position: relative;\n",
              "}\n",
              "\n",
              "#sk-container-id-2 div.sk-parallel-item {\n",
              "  display: flex;\n",
              "  flex-direction: column;\n",
              "}\n",
              "\n",
              "#sk-container-id-2 div.sk-parallel-item:first-child::after {\n",
              "  align-self: flex-end;\n",
              "  width: 50%;\n",
              "}\n",
              "\n",
              "#sk-container-id-2 div.sk-parallel-item:last-child::after {\n",
              "  align-self: flex-start;\n",
              "  width: 50%;\n",
              "}\n",
              "\n",
              "#sk-container-id-2 div.sk-parallel-item:only-child::after {\n",
              "  width: 0;\n",
              "}\n",
              "\n",
              "/* Serial-specific style estimator block */\n",
              "\n",
              "#sk-container-id-2 div.sk-serial {\n",
              "  display: flex;\n",
              "  flex-direction: column;\n",
              "  align-items: center;\n",
              "  background-color: var(--sklearn-color-background);\n",
              "  padding-right: 1em;\n",
              "  padding-left: 1em;\n",
              "}\n",
              "\n",
              "\n",
              "/* Toggleable style: style used for estimator/Pipeline/ColumnTransformer box that is\n",
              "clickable and can be expanded/collapsed.\n",
              "- Pipeline and ColumnTransformer use this feature and define the default style\n",
              "- Estimators will overwrite some part of the style using the `sk-estimator` class\n",
              "*/\n",
              "\n",
              "/* Pipeline and ColumnTransformer style (default) */\n",
              "\n",
              "#sk-container-id-2 div.sk-toggleable {\n",
              "  /* Default theme specific background. It is overwritten whether we have a\n",
              "  specific estimator or a Pipeline/ColumnTransformer */\n",
              "  background-color: var(--sklearn-color-background);\n",
              "}\n",
              "\n",
              "/* Toggleable label */\n",
              "#sk-container-id-2 label.sk-toggleable__label {\n",
              "  cursor: pointer;\n",
              "  display: flex;\n",
              "  width: 100%;\n",
              "  margin-bottom: 0;\n",
              "  padding: 0.5em;\n",
              "  box-sizing: border-box;\n",
              "  text-align: center;\n",
              "  align-items: start;\n",
              "  justify-content: space-between;\n",
              "  gap: 0.5em;\n",
              "}\n",
              "\n",
              "#sk-container-id-2 label.sk-toggleable__label .caption {\n",
              "  font-size: 0.6rem;\n",
              "  font-weight: lighter;\n",
              "  color: var(--sklearn-color-text-muted);\n",
              "}\n",
              "\n",
              "#sk-container-id-2 label.sk-toggleable__label-arrow:before {\n",
              "  /* Arrow on the left of the label */\n",
              "  content: \"▸\";\n",
              "  float: left;\n",
              "  margin-right: 0.25em;\n",
              "  color: var(--sklearn-color-icon);\n",
              "}\n",
              "\n",
              "#sk-container-id-2 label.sk-toggleable__label-arrow:hover:before {\n",
              "  color: var(--sklearn-color-text);\n",
              "}\n",
              "\n",
              "/* Toggleable content - dropdown */\n",
              "\n",
              "#sk-container-id-2 div.sk-toggleable__content {\n",
              "  max-height: 0;\n",
              "  max-width: 0;\n",
              "  overflow: hidden;\n",
              "  text-align: left;\n",
              "  /* unfitted */\n",
              "  background-color: var(--sklearn-color-unfitted-level-0);\n",
              "}\n",
              "\n",
              "#sk-container-id-2 div.sk-toggleable__content.fitted {\n",
              "  /* fitted */\n",
              "  background-color: var(--sklearn-color-fitted-level-0);\n",
              "}\n",
              "\n",
              "#sk-container-id-2 div.sk-toggleable__content pre {\n",
              "  margin: 0.2em;\n",
              "  border-radius: 0.25em;\n",
              "  color: var(--sklearn-color-text);\n",
              "  /* unfitted */\n",
              "  background-color: var(--sklearn-color-unfitted-level-0);\n",
              "}\n",
              "\n",
              "#sk-container-id-2 div.sk-toggleable__content.fitted pre {\n",
              "  /* unfitted */\n",
              "  background-color: var(--sklearn-color-fitted-level-0);\n",
              "}\n",
              "\n",
              "#sk-container-id-2 input.sk-toggleable__control:checked~div.sk-toggleable__content {\n",
              "  /* Expand drop-down */\n",
              "  max-height: 200px;\n",
              "  max-width: 100%;\n",
              "  overflow: auto;\n",
              "}\n",
              "\n",
              "#sk-container-id-2 input.sk-toggleable__control:checked~label.sk-toggleable__label-arrow:before {\n",
              "  content: \"▾\";\n",
              "}\n",
              "\n",
              "/* Pipeline/ColumnTransformer-specific style */\n",
              "\n",
              "#sk-container-id-2 div.sk-label input.sk-toggleable__control:checked~label.sk-toggleable__label {\n",
              "  color: var(--sklearn-color-text);\n",
              "  background-color: var(--sklearn-color-unfitted-level-2);\n",
              "}\n",
              "\n",
              "#sk-container-id-2 div.sk-label.fitted input.sk-toggleable__control:checked~label.sk-toggleable__label {\n",
              "  background-color: var(--sklearn-color-fitted-level-2);\n",
              "}\n",
              "\n",
              "/* Estimator-specific style */\n",
              "\n",
              "/* Colorize estimator box */\n",
              "#sk-container-id-2 div.sk-estimator input.sk-toggleable__control:checked~label.sk-toggleable__label {\n",
              "  /* unfitted */\n",
              "  background-color: var(--sklearn-color-unfitted-level-2);\n",
              "}\n",
              "\n",
              "#sk-container-id-2 div.sk-estimator.fitted input.sk-toggleable__control:checked~label.sk-toggleable__label {\n",
              "  /* fitted */\n",
              "  background-color: var(--sklearn-color-fitted-level-2);\n",
              "}\n",
              "\n",
              "#sk-container-id-2 div.sk-label label.sk-toggleable__label,\n",
              "#sk-container-id-2 div.sk-label label {\n",
              "  /* The background is the default theme color */\n",
              "  color: var(--sklearn-color-text-on-default-background);\n",
              "}\n",
              "\n",
              "/* On hover, darken the color of the background */\n",
              "#sk-container-id-2 div.sk-label:hover label.sk-toggleable__label {\n",
              "  color: var(--sklearn-color-text);\n",
              "  background-color: var(--sklearn-color-unfitted-level-2);\n",
              "}\n",
              "\n",
              "/* Label box, darken color on hover, fitted */\n",
              "#sk-container-id-2 div.sk-label.fitted:hover label.sk-toggleable__label.fitted {\n",
              "  color: var(--sklearn-color-text);\n",
              "  background-color: var(--sklearn-color-fitted-level-2);\n",
              "}\n",
              "\n",
              "/* Estimator label */\n",
              "\n",
              "#sk-container-id-2 div.sk-label label {\n",
              "  font-family: monospace;\n",
              "  font-weight: bold;\n",
              "  display: inline-block;\n",
              "  line-height: 1.2em;\n",
              "}\n",
              "\n",
              "#sk-container-id-2 div.sk-label-container {\n",
              "  text-align: center;\n",
              "}\n",
              "\n",
              "/* Estimator-specific */\n",
              "#sk-container-id-2 div.sk-estimator {\n",
              "  font-family: monospace;\n",
              "  border: 1px dotted var(--sklearn-color-border-box);\n",
              "  border-radius: 0.25em;\n",
              "  box-sizing: border-box;\n",
              "  margin-bottom: 0.5em;\n",
              "  /* unfitted */\n",
              "  background-color: var(--sklearn-color-unfitted-level-0);\n",
              "}\n",
              "\n",
              "#sk-container-id-2 div.sk-estimator.fitted {\n",
              "  /* fitted */\n",
              "  background-color: var(--sklearn-color-fitted-level-0);\n",
              "}\n",
              "\n",
              "/* on hover */\n",
              "#sk-container-id-2 div.sk-estimator:hover {\n",
              "  /* unfitted */\n",
              "  background-color: var(--sklearn-color-unfitted-level-2);\n",
              "}\n",
              "\n",
              "#sk-container-id-2 div.sk-estimator.fitted:hover {\n",
              "  /* fitted */\n",
              "  background-color: var(--sklearn-color-fitted-level-2);\n",
              "}\n",
              "\n",
              "/* Specification for estimator info (e.g. \"i\" and \"?\") */\n",
              "\n",
              "/* Common style for \"i\" and \"?\" */\n",
              "\n",
              ".sk-estimator-doc-link,\n",
              "a:link.sk-estimator-doc-link,\n",
              "a:visited.sk-estimator-doc-link {\n",
              "  float: right;\n",
              "  font-size: smaller;\n",
              "  line-height: 1em;\n",
              "  font-family: monospace;\n",
              "  background-color: var(--sklearn-color-background);\n",
              "  border-radius: 1em;\n",
              "  height: 1em;\n",
              "  width: 1em;\n",
              "  text-decoration: none !important;\n",
              "  margin-left: 0.5em;\n",
              "  text-align: center;\n",
              "  /* unfitted */\n",
              "  border: var(--sklearn-color-unfitted-level-1) 1pt solid;\n",
              "  color: var(--sklearn-color-unfitted-level-1);\n",
              "}\n",
              "\n",
              ".sk-estimator-doc-link.fitted,\n",
              "a:link.sk-estimator-doc-link.fitted,\n",
              "a:visited.sk-estimator-doc-link.fitted {\n",
              "  /* fitted */\n",
              "  border: var(--sklearn-color-fitted-level-1) 1pt solid;\n",
              "  color: var(--sklearn-color-fitted-level-1);\n",
              "}\n",
              "\n",
              "/* On hover */\n",
              "div.sk-estimator:hover .sk-estimator-doc-link:hover,\n",
              ".sk-estimator-doc-link:hover,\n",
              "div.sk-label-container:hover .sk-estimator-doc-link:hover,\n",
              ".sk-estimator-doc-link:hover {\n",
              "  /* unfitted */\n",
              "  background-color: var(--sklearn-color-unfitted-level-3);\n",
              "  color: var(--sklearn-color-background);\n",
              "  text-decoration: none;\n",
              "}\n",
              "\n",
              "div.sk-estimator.fitted:hover .sk-estimator-doc-link.fitted:hover,\n",
              ".sk-estimator-doc-link.fitted:hover,\n",
              "div.sk-label-container:hover .sk-estimator-doc-link.fitted:hover,\n",
              ".sk-estimator-doc-link.fitted:hover {\n",
              "  /* fitted */\n",
              "  background-color: var(--sklearn-color-fitted-level-3);\n",
              "  color: var(--sklearn-color-background);\n",
              "  text-decoration: none;\n",
              "}\n",
              "\n",
              "/* Span, style for the box shown on hovering the info icon */\n",
              ".sk-estimator-doc-link span {\n",
              "  display: none;\n",
              "  z-index: 9999;\n",
              "  position: relative;\n",
              "  font-weight: normal;\n",
              "  right: .2ex;\n",
              "  padding: .5ex;\n",
              "  margin: .5ex;\n",
              "  width: min-content;\n",
              "  min-width: 20ex;\n",
              "  max-width: 50ex;\n",
              "  color: var(--sklearn-color-text);\n",
              "  box-shadow: 2pt 2pt 4pt #999;\n",
              "  /* unfitted */\n",
              "  background: var(--sklearn-color-unfitted-level-0);\n",
              "  border: .5pt solid var(--sklearn-color-unfitted-level-3);\n",
              "}\n",
              "\n",
              ".sk-estimator-doc-link.fitted span {\n",
              "  /* fitted */\n",
              "  background: var(--sklearn-color-fitted-level-0);\n",
              "  border: var(--sklearn-color-fitted-level-3);\n",
              "}\n",
              "\n",
              ".sk-estimator-doc-link:hover span {\n",
              "  display: block;\n",
              "}\n",
              "\n",
              "/* \"?\"-specific style due to the `<a>` HTML tag */\n",
              "\n",
              "#sk-container-id-2 a.estimator_doc_link {\n",
              "  float: right;\n",
              "  font-size: 1rem;\n",
              "  line-height: 1em;\n",
              "  font-family: monospace;\n",
              "  background-color: var(--sklearn-color-background);\n",
              "  border-radius: 1rem;\n",
              "  height: 1rem;\n",
              "  width: 1rem;\n",
              "  text-decoration: none;\n",
              "  /* unfitted */\n",
              "  color: var(--sklearn-color-unfitted-level-1);\n",
              "  border: var(--sklearn-color-unfitted-level-1) 1pt solid;\n",
              "}\n",
              "\n",
              "#sk-container-id-2 a.estimator_doc_link.fitted {\n",
              "  /* fitted */\n",
              "  border: var(--sklearn-color-fitted-level-1) 1pt solid;\n",
              "  color: var(--sklearn-color-fitted-level-1);\n",
              "}\n",
              "\n",
              "/* On hover */\n",
              "#sk-container-id-2 a.estimator_doc_link:hover {\n",
              "  /* unfitted */\n",
              "  background-color: var(--sklearn-color-unfitted-level-3);\n",
              "  color: var(--sklearn-color-background);\n",
              "  text-decoration: none;\n",
              "}\n",
              "\n",
              "#sk-container-id-2 a.estimator_doc_link.fitted:hover {\n",
              "  /* fitted */\n",
              "  background-color: var(--sklearn-color-fitted-level-3);\n",
              "}\n",
              "</style><div id=\"sk-container-id-2\" class=\"sk-top-container\"><div class=\"sk-text-repr-fallback\"><pre>LinearRegression()</pre><b>In a Jupyter environment, please rerun this cell to show the HTML representation or trust the notebook. <br />On GitHub, the HTML representation is unable to render, please try loading this page with nbviewer.org.</b></div><div class=\"sk-container\" hidden><div class=\"sk-item\"><div class=\"sk-estimator fitted sk-toggleable\"><input class=\"sk-toggleable__control sk-hidden--visually\" id=\"sk-estimator-id-2\" type=\"checkbox\" checked><label for=\"sk-estimator-id-2\" class=\"sk-toggleable__label fitted sk-toggleable__label-arrow\"><div><div>LinearRegression</div></div><div><a class=\"sk-estimator-doc-link fitted\" rel=\"noreferrer\" target=\"_blank\" href=\"https://scikit-learn.org/1.6/modules/generated/sklearn.linear_model.LinearRegression.html\">?<span>Documentation for LinearRegression</span></a><span class=\"sk-estimator-doc-link fitted\">i<span>Fitted</span></span></div></label><div class=\"sk-toggleable__content fitted\"><pre>LinearRegression()</pre></div> </div></div></div></div>"
            ],
            "text/plain": [
              "LinearRegression()"
            ]
          },
          "execution_count": 48,
          "metadata": {},
          "output_type": "execute_result"
        }
      ],
      "source": [
        "from sklearn.linear_model import LinearRegression\n",
        "\n",
        "lr_model = LinearRegression()\n",
        "lr_model.fit(X_train, y_train)\n"
      ]
    },
    {
      "cell_type": "markdown",
      "metadata": {
        "id": "7Hfm0eyF2iNh"
      },
      "source": [
        " Predict and Evaluate"
      ]
    },
    {
      "cell_type": "code",
      "execution_count": null,
      "metadata": {
        "colab": {
          "base_uri": "https://localhost:8080/"
        },
        "id": "ocCrnhaL2d4K",
        "outputId": "172fa4e7-1482-4450-cb8e-8f9e1186c053"
      },
      "outputs": [
        {
          "name": "stdout",
          "output_type": "stream",
          "text": [
            "🔹 Linear Regression Results\n",
            "MAE  = 49.11\n",
            "RMSE = 64.02\n",
            "R²   = 0.55\n"
          ]
        }
      ],
      "source": [
        "from sklearn.metrics import mean_absolute_error, mean_squared_error, r2_score\n",
        "import numpy as np\n",
        "\n",
        "y_pred_lr = lr_model.predict(X_val)\n",
        "\n",
        "mae_lr = mean_absolute_error(y_val, y_pred_lr)\n",
        "rmse_lr = np.sqrt(mean_squared_error(y_val, y_pred_lr))  \n",
        "r2_lr = r2_score(y_val, y_pred_lr)\n",
        "\n",
        "print(\"🔹 Linear Regression Results\")\n",
        "print(f\"MAE  = {mae_lr:.2f}\")\n",
        "print(f\"RMSE = {rmse_lr:.2f}\")\n",
        "print(f\"R²   = {r2_lr:.2f}\")\n"
      ]
    },
    {
      "cell_type": "code",
      "execution_count": null,
      "metadata": {
        "colab": {
          "base_uri": "https://localhost:8080/",
          "height": 956
        },
        "id": "_uUDLVpX3UhI",
        "outputId": "e81d54a5-7d62-43cf-8b59-bdebb0f2b461"
      },
      "outputs": [
        {
          "name": "stderr",
          "output_type": "stream",
          "text": [
            "<ipython-input-50-b8afea3857ed>:20: UserWarning: Glyph 9989 (\\N{WHITE HEAVY CHECK MARK}) missing from font(s) DejaVu Sans.\n",
            "  plt.tight_layout()\n",
            "/usr/local/lib/python3.11/dist-packages/IPython/core/pylabtools.py:151: UserWarning: Glyph 9989 (\\N{WHITE HEAVY CHECK MARK}) missing from font(s) DejaVu Sans.\n",
            "  fig.canvas.print_figure(bytes_io, **kw)\n"
          ]
        },
        {
          "data": {
            "image/png": "[encoded data removed]",
            "text/plain": [
              "<Figure size 1000x400 with 1 Axes>"
            ]
          },
          "metadata": {},
          "output_type": "display_data"
        },
        {
          "name": "stderr",
          "output_type": "stream",
          "text": [
            "<ipython-input-50-b8afea3857ed>:30: UserWarning: Glyph 128200 (\\N{CHART WITH UPWARDS TREND}) missing from font(s) DejaVu Sans.\n",
            "  plt.tight_layout()\n",
            "/usr/local/lib/python3.11/dist-packages/IPython/core/pylabtools.py:151: UserWarning: Glyph 128200 (\\N{CHART WITH UPWARDS TREND}) missing from font(s) DejaVu Sans.\n",
            "  fig.canvas.print_figure(bytes_io, **kw)\n"
          ]
        },
        {
          "data": {
            "image/png": "[encoded data removed]",
            "text/plain": [
              "<Figure size 1000x400 with 1 Axes>"
            ]
          },
          "metadata": {},
          "output_type": "display_data"
        }
      ],
      "source": [
        "import matplotlib.pyplot as plt\n",
        "import numpy as np\n",
        "\n",
        "\n",
        "y_val = np.array(y_val)\n",
        "y_pred_lr = np.array(y_pred_lr)\n",
        "\n",
        "\n",
        "sorted_indices = np.argsort(y_val)\n",
        "sorted_actual = y_val[sorted_indices]\n",
        "sorted_pred = y_pred_lr[sorted_indices]\n",
        "\n",
        "\n",
        "plt.figure(figsize=(10, 4))\n",
        "plt.plot(sorted_actual, label='Actual RUL', color='green')\n",
        "plt.xlabel(\"Sample Index (sorted)\")\n",
        "plt.ylabel(\"RUL\")\n",
        "plt.title(\"Actual RUL\")\n",
        "plt.grid(True)\n",
        "plt.tight_layout()\n",
        "plt.show()\n",
        "\n",
        "\n",
        "plt.figure(figsize=(10, 4))\n",
        "plt.plot(sorted_pred, label='Predicted RUL (Linear Regression)', color='blue')\n",
        "plt.xlabel(\"Sample Index (sorted by actual RUL)\")\n",
        "plt.ylabel(\"RUL\")\n",
        "plt.title(\"Predicted RUL (Linear Regression)\")\n",
        "plt.grid(True)\n",
        "plt.tight_layout()\n",
        "plt.show()\n"
      ]
    },
    {
      "cell_type": "markdown",
      "metadata": {
        "id": "f-6-CBAe3Yrf"
      },
      "source": [
        "# LSTM"
      ]
    },
    {
      "cell_type": "markdown",
      "metadata": {
        "id": "7LMAuTTR3a2G"
      },
      "source": [
        "Creating Sequences From train_all_normalized"
      ]
    },
    {
      "cell_type": "code",
      "execution_count": 51,
      "metadata": {
        "id": "2ddzy0Ow3UAI"
      },
      "outputs": [],
      "source": [
        "import numpy as np\n",
        "\n",
        "def create_lstm_sequences(df, features, window_size=50):\n",
        "    X = []\n",
        "    y = []\n",
        "\n",
        "    for eng_id in df['id'].unique():\n",
        "        engine_df = df[df['id'] == eng_id].reset_index(drop=True)\n",
        "        engine_data = engine_df[features].values\n",
        "        engine_rul = engine_df['RUL'].values\n",
        "\n",
        "        for i in range(len(engine_df) - window_size):\n",
        "            X.append(engine_data[i:i+window_size])\n",
        "            y.append(engine_rul[i + window_size])\n",
        "\n",
        "    return np.array(X), np.array(y)\n"
      ]
    },
    {
      "cell_type": "code",
      "execution_count": 52,
      "metadata": {
        "colab": {
          "base_uri": "https://localhost:8080/"
        },
        "id": "3G3ZCh6l3yXr",
        "outputId": "180694d7-45f8-4698-d21e-d156202a5523"
      },
      "outputs": [
        {
          "name": "stdout",
          "output_type": "stream",
          "text": [
            "X shape: (147359, 50, 21), y shape: (147359,)\n"
          ]
        }
      ],
      "source": [
        "window_size=50\n",
        "\n",
        "X_lstm, y_lstm = create_lstm_sequences(train_all_normalized, useful_features, window_size=window_size)\n",
        "print(f\"X shape: {X_lstm.shape}, y shape: {y_lstm.shape}\")\n"
      ]
    },
    {
      "cell_type": "markdown",
      "metadata": {
        "id": "YaMqNgS037XR"
      },
      "source": [
        "Train/Validation Split"
      ]
    },
    {
      "cell_type": "code",
      "execution_count": 53,
      "metadata": {
        "id": "AorOmgLQ38cc"
      },
      "outputs": [],
      "source": [
        "from sklearn.model_selection import train_test_split\n",
        "\n",
        "X_train_lstm, X_val_lstm, y_train_lstm, y_val_lstm = train_test_split(\n",
        "    X_lstm, y_lstm, test_size=0.2, random_state=42\n",
        ")\n",
        "\n"
      ]
    },
    {
      "cell_type": "markdown",
      "metadata": {
        "id": "AsPhBu7a4CR2"
      },
      "source": [
        "Define & Compile LSTM Model"
      ]
    },
    {
      "cell_type": "code",
      "execution_count": 54,
      "metadata": {
        "colab": {
          "base_uri": "https://localhost:8080/"
        },
        "id": "-Q4r4KU_4Bdd",
        "outputId": "5f2b0443-faca-488b-e74a-951ed1b5a5dd"
      },
      "outputs": [
        {
          "name": "stderr",
          "output_type": "stream",
          "text": [
            "/usr/local/lib/python3.11/dist-packages/keras/src/layers/rnn/rnn.py:200: UserWarning: Do not pass an `input_shape`/`input_dim` argument to a layer. When using Sequential models, prefer using an `Input(shape)` object as the first layer in the model instead.\n",
            "  super().__init__(**kwargs)\n"
          ]
        }
      ],
      "source": [
        "from tensorflow.keras.models import Sequential\n",
        "from tensorflow.keras.layers import LSTM, Dense, Dropout\n",
        "\n",
        "model_lstm = Sequential([\n",
        "    LSTM(128, return_sequences=True, input_shape=(window_size, len(useful_features))),\n",
        "    Dropout(0.3),\n",
        "    LSTM(64),\n",
        "    Dropout(0.3),\n",
        "    Dense(1)\n",
        "])\n"
      ]
    },
    {
      "cell_type": "markdown",
      "metadata": {
        "id": "VxVvzO9m4QKM"
      },
      "source": [
        "Train the LSTM Model"
      ]
    },
    {
      "cell_type": "code",
      "execution_count": 56,
      "metadata": {
        "id": "Yi8rZLHi7wXd"
      },
      "outputs": [],
      "source": [
        "model_lstm.compile(optimizer='adam', loss='mae')"
      ]
    },
    {
      "cell_type": "code",
      "execution_count": 57,
      "metadata": {
        "colab": {
          "base_uri": "https://localhost:8080/"
        },
        "id": "WkFe2lDm4JN0",
        "outputId": "16babb7a-594a-410d-81d5-42cbbbc433d2"
      },
      "outputs": [
        {
          "name": "stdout",
          "output_type": "stream",
          "text": [
            "Epoch 1/100\n",
            "\u001b[1m1842/1842\u001b[0m \u001b[32m━━━━━━━━━━━━━━━━━━━━\u001b[0m\u001b[37m\u001b[0m \u001b[1m319s\u001b[0m 171ms/step - loss: 129.7847 - val_loss: 84.5240\n",
            "Epoch 2/100\n",
            "\u001b[1m1842/1842\u001b[0m \u001b[32m━━━━━━━━━━━━━━━━━━━━\u001b[0m\u001b[37m\u001b[0m \u001b[1m319s\u001b[0m 169ms/step - loss: 80.7736 - val_loss: 75.4573\n",
            "Epoch 3/100\n",
            "\u001b[1m1842/1842\u001b[0m \u001b[32m━━━━━━━━━━━━━━━━━━━━\u001b[0m\u001b[37m\u001b[0m \u001b[1m321s\u001b[0m 169ms/step - loss: 69.3014 - val_loss: 48.0423\n",
            "Epoch 4/100\n",
            "\u001b[1m1842/1842\u001b[0m \u001b[32m━━━━━━━━━━━━━━━━━━━━\u001b[0m\u001b[37m\u001b[0m \u001b[1m323s\u001b[0m 170ms/step - loss: 48.3832 - val_loss: 43.6252\n",
            "Epoch 5/100\n",
            "\u001b[1m1842/1842\u001b[0m \u001b[32m━━━━━━━━━━━━━━━━━━━━\u001b[0m\u001b[37m\u001b[0m \u001b[1m321s\u001b[0m 169ms/step - loss: 44.8028 - val_loss: 43.0837\n",
            "Epoch 6/100\n",
            "\u001b[1m1842/1842\u001b[0m \u001b[32m━━━━━━━━━━━━━━━━━━━━\u001b[0m\u001b[37m\u001b[0m \u001b[1m311s\u001b[0m 169ms/step - loss: 42.7733 - val_loss: 39.2133\n",
            "Epoch 7/100\n",
            "\u001b[1m1842/1842\u001b[0m \u001b[32m━━━━━━━━━━━━━━━━━━━━\u001b[0m\u001b[37m\u001b[0m \u001b[1m325s\u001b[0m 170ms/step - loss: 41.0432 - val_loss: 37.4197\n",
            "Epoch 8/100\n",
            "\u001b[1m1842/1842\u001b[0m \u001b[32m━━━━━━━━━━━━━━━━━━━━\u001b[0m\u001b[37m\u001b[0m \u001b[1m320s\u001b[0m 169ms/step - loss: 39.5558 - val_loss: 35.9655\n",
            "Epoch 9/100\n",
            "\u001b[1m1842/1842\u001b[0m \u001b[32m━━━━━━━━━━━━━━━━━━━━\u001b[0m\u001b[37m\u001b[0m \u001b[1m322s\u001b[0m 169ms/step - loss: 37.8462 - val_loss: 34.8452\n",
            "Epoch 10/100\n",
            "\u001b[1m1842/1842\u001b[0m \u001b[32m━━━━━━━━━━━━━━━━━━━━\u001b[0m\u001b[37m\u001b[0m \u001b[1m311s\u001b[0m 169ms/step - loss: 36.4215 - val_loss: 33.5176\n",
            "Epoch 11/100\n",
            "\u001b[1m1842/1842\u001b[0m \u001b[32m━━━━━━━━━━━━━━━━━━━━\u001b[0m\u001b[37m\u001b[0m \u001b[1m321s\u001b[0m 169ms/step - loss: 34.7155 - val_loss: 31.8223\n",
            "Epoch 12/100\n",
            "\u001b[1m1842/1842\u001b[0m \u001b[32m━━━━━━━━━━━━━━━━━━━━\u001b[0m\u001b[37m\u001b[0m \u001b[1m322s\u001b[0m 169ms/step - loss: 33.3514 - val_loss: 28.9501\n",
            "Epoch 13/100\n",
            "\u001b[1m1842/1842\u001b[0m \u001b[32m━━━━━━━━━━━━━━━━━━━━\u001b[0m\u001b[37m\u001b[0m \u001b[1m322s\u001b[0m 169ms/step - loss: 31.3952 - val_loss: 27.5578\n",
            "Epoch 14/100\n",
            "\u001b[1m1842/1842\u001b[0m \u001b[32m━━━━━━━━━━━━━━━━━━━━\u001b[0m\u001b[37m\u001b[0m \u001b[1m303s\u001b[0m 158ms/step - loss: 30.1690 - val_loss: 26.5478\n",
            "Epoch 15/100\n",
            "\u001b[1m1842/1842\u001b[0m \u001b[32m━━━━━━━━━━━━━━━━━━━━\u001b[0m\u001b[37m\u001b[0m \u001b[1m310s\u001b[0m 168ms/step - loss: 28.6898 - val_loss: 24.6905\n",
            "Epoch 16/100\n",
            "\u001b[1m1842/1842\u001b[0m \u001b[32m━━━━━━━━━━━━━━━━━━━━\u001b[0m\u001b[37m\u001b[0m \u001b[1m324s\u001b[0m 169ms/step - loss: 27.4009 - val_loss: 23.8413\n",
            "Epoch 17/100\n",
            "\u001b[1m1842/1842\u001b[0m \u001b[32m━━━━━━━━━━━━━━━━━━━━\u001b[0m\u001b[37m\u001b[0m \u001b[1m320s\u001b[0m 168ms/step - loss: 26.1346 - val_loss: 21.9904\n",
            "Epoch 18/100\n",
            "\u001b[1m1842/1842\u001b[0m \u001b[32m━━━━━━━━━━━━━━━━━━━━\u001b[0m\u001b[37m\u001b[0m \u001b[1m322s\u001b[0m 169ms/step - loss: 24.9843 - val_loss: 21.3153\n",
            "Epoch 19/100\n",
            "\u001b[1m1842/1842\u001b[0m \u001b[32m━━━━━━━━━━━━━━━━━━━━\u001b[0m\u001b[37m\u001b[0m \u001b[1m305s\u001b[0m 159ms/step - loss: 24.0155 - val_loss: 19.4703\n",
            "Epoch 20/100\n",
            "\u001b[1m1842/1842\u001b[0m \u001b[32m━━━━━━━━━━━━━━━━━━━━\u001b[0m\u001b[37m\u001b[0m \u001b[1m341s\u001b[0m 169ms/step - loss: 23.3857 - val_loss: 18.6015\n",
            "Epoch 21/100\n",
            "\u001b[1m1842/1842\u001b[0m \u001b[32m━━━━━━━━━━━━━━━━━━━━\u001b[0m\u001b[37m\u001b[0m \u001b[1m322s\u001b[0m 169ms/step - loss: 22.5504 - val_loss: 18.2449\n",
            "Epoch 22/100\n",
            "\u001b[1m1842/1842\u001b[0m \u001b[32m━━━━━━━━━━━━━━━━━━━━\u001b[0m\u001b[37m\u001b[0m \u001b[1m322s\u001b[0m 169ms/step - loss: 21.6044 - val_loss: 17.4659\n",
            "Epoch 23/100\n",
            "\u001b[1m1842/1842\u001b[0m \u001b[32m━━━━━━━━━━━━━━━━━━━━\u001b[0m\u001b[37m\u001b[0m \u001b[1m321s\u001b[0m 169ms/step - loss: 21.0661 - val_loss: 15.9041\n",
            "Epoch 24/100\n",
            "\u001b[1m1842/1842\u001b[0m \u001b[32m━━━━━━━━━━━━━━━━━━━━\u001b[0m\u001b[37m\u001b[0m \u001b[1m310s\u001b[0m 168ms/step - loss: 20.5351 - val_loss: 15.9049\n",
            "Epoch 25/100\n",
            "\u001b[1m1842/1842\u001b[0m \u001b[32m━━━━━━━━━━━━━━━━━━━━\u001b[0m\u001b[37m\u001b[0m \u001b[1m321s\u001b[0m 168ms/step - loss: 19.5512 - val_loss: 16.8446\n",
            "Epoch 26/100\n",
            "\u001b[1m1842/1842\u001b[0m \u001b[32m━━━━━━━━━━━━━━━━━━━━\u001b[0m\u001b[37m\u001b[0m \u001b[1m322s\u001b[0m 168ms/step - loss: 19.1568 - val_loss: 15.0450\n",
            "Epoch 27/100\n",
            "\u001b[1m1842/1842\u001b[0m \u001b[32m━━━━━━━━━━━━━━━━━━━━\u001b[0m\u001b[37m\u001b[0m \u001b[1m322s\u001b[0m 168ms/step - loss: 18.7122 - val_loss: 14.6260\n",
            "Epoch 28/100\n",
            "\u001b[1m1842/1842\u001b[0m \u001b[32m━━━━━━━━━━━━━━━━━━━━\u001b[0m\u001b[37m\u001b[0m \u001b[1m323s\u001b[0m 168ms/step - loss: 18.4450 - val_loss: 16.2557\n",
            "Epoch 29/100\n",
            "\u001b[1m1842/1842\u001b[0m \u001b[32m━━━━━━━━━━━━━━━━━━━━\u001b[0m\u001b[37m\u001b[0m \u001b[1m309s\u001b[0m 168ms/step - loss: 18.0172 - val_loss: 13.4389\n",
            "Epoch 30/100\n",
            "\u001b[1m1842/1842\u001b[0m \u001b[32m━━━━━━━━━━━━━━━━━━━━\u001b[0m\u001b[37m\u001b[0m \u001b[1m310s\u001b[0m 168ms/step - loss: 17.6497 - val_loss: 13.4395\n",
            "Epoch 31/100\n",
            "\u001b[1m1842/1842\u001b[0m \u001b[32m━━━━━━━━━━━━━━━━━━━━\u001b[0m\u001b[37m\u001b[0m \u001b[1m322s\u001b[0m 168ms/step - loss: 17.0025 - val_loss: 13.1859\n",
            "Epoch 32/100\n",
            "\u001b[1m1842/1842\u001b[0m \u001b[32m━━━━━━━━━━━━━━━━━━━━\u001b[0m\u001b[37m\u001b[0m \u001b[1m310s\u001b[0m 168ms/step - loss: 16.9581 - val_loss: 13.4689\n",
            "Epoch 33/100\n",
            "\u001b[1m1842/1842\u001b[0m \u001b[32m━━━━━━━━━━━━━━━━━━━━\u001b[0m\u001b[37m\u001b[0m \u001b[1m322s\u001b[0m 168ms/step - loss: 16.4174 - val_loss: 13.3454\n",
            "Epoch 34/100\n",
            "\u001b[1m1842/1842\u001b[0m \u001b[32m━━━━━━━━━━━━━━━━━━━━\u001b[0m\u001b[37m\u001b[0m \u001b[1m322s\u001b[0m 168ms/step - loss: 16.0636 - val_loss: 11.8223\n",
            "Epoch 35/100\n",
            "\u001b[1m1842/1842\u001b[0m \u001b[32m━━━━━━━━━━━━━━━━━━━━\u001b[0m\u001b[37m\u001b[0m \u001b[1m322s\u001b[0m 168ms/step - loss: 15.9071 - val_loss: 12.6980\n",
            "Epoch 36/100\n",
            "\u001b[1m1842/1842\u001b[0m \u001b[32m━━━━━━━━━━━━━━━━━━━━\u001b[0m\u001b[37m\u001b[0m \u001b[1m321s\u001b[0m 168ms/step - loss: 15.7303 - val_loss: 11.9898\n",
            "Epoch 37/100\n",
            "\u001b[1m1842/1842\u001b[0m \u001b[32m━━━━━━━━━━━━━━━━━━━━\u001b[0m\u001b[37m\u001b[0m \u001b[1m323s\u001b[0m 169ms/step - loss: 15.3974 - val_loss: 10.3587\n",
            "Epoch 38/100\n",
            "\u001b[1m1842/1842\u001b[0m \u001b[32m━━━━━━━━━━━━━━━━━━━━\u001b[0m\u001b[37m\u001b[0m \u001b[1m302s\u001b[0m 158ms/step - loss: 15.1594 - val_loss: 10.1640\n",
            "Epoch 39/100\n",
            "\u001b[1m1842/1842\u001b[0m \u001b[32m━━━━━━━━━━━━━━━━━━━━\u001b[0m\u001b[37m\u001b[0m \u001b[1m311s\u001b[0m 169ms/step - loss: 15.1487 - val_loss: 10.5170\n",
            "Epoch 40/100\n",
            "\u001b[1m1842/1842\u001b[0m \u001b[32m━━━━━━━━━━━━━━━━━━━━\u001b[0m\u001b[37m\u001b[0m \u001b[1m310s\u001b[0m 168ms/step - loss: 15.1109 - val_loss: 9.9741\n",
            "Epoch 41/100\n",
            "\u001b[1m1842/1842\u001b[0m \u001b[32m━━━━━━━━━━━━━━━━━━━━\u001b[0m\u001b[37m\u001b[0m \u001b[1m321s\u001b[0m 168ms/step - loss: 14.4676 - val_loss: 9.6689\n",
            "Epoch 42/100\n",
            "\u001b[1m1842/1842\u001b[0m \u001b[32m━━━━━━━━━━━━━━━━━━━━\u001b[0m\u001b[37m\u001b[0m \u001b[1m322s\u001b[0m 168ms/step - loss: 14.5953 - val_loss: 10.8014\n",
            "Epoch 43/100\n",
            "\u001b[1m1842/1842\u001b[0m \u001b[32m━━━━━━━━━━━━━━━━━━━━\u001b[0m\u001b[37m\u001b[0m \u001b[1m325s\u001b[0m 169ms/step - loss: 14.5294 - val_loss: 9.8866\n",
            "Epoch 44/100\n",
            "\u001b[1m1842/1842\u001b[0m \u001b[32m━━━━━━━━━━━━━━━━━━━━\u001b[0m\u001b[37m\u001b[0m \u001b[1m321s\u001b[0m 169ms/step - loss: 14.3269 - val_loss: 10.8523\n",
            "Epoch 45/100\n",
            "\u001b[1m1842/1842\u001b[0m \u001b[32m━━━━━━━━━━━━━━━━━━━━\u001b[0m\u001b[37m\u001b[0m \u001b[1m320s\u001b[0m 168ms/step - loss: 14.2131 - val_loss: 10.1535\n",
            "Epoch 46/100\n",
            "\u001b[1m1842/1842\u001b[0m \u001b[32m━━━━━━━━━━━━━━━━━━━━\u001b[0m\u001b[37m\u001b[0m \u001b[1m324s\u001b[0m 169ms/step - loss: 13.9993 - val_loss: 9.3742\n",
            "Epoch 47/100\n",
            "\u001b[1m1842/1842\u001b[0m \u001b[32m━━━━━━━━━━━━━━━━━━━━\u001b[0m\u001b[37m\u001b[0m \u001b[1m310s\u001b[0m 168ms/step - loss: 13.7317 - val_loss: 10.8033\n",
            "Epoch 48/100\n",
            "\u001b[1m1842/1842\u001b[0m \u001b[32m━━━━━━━━━━━━━━━━━━━━\u001b[0m\u001b[37m\u001b[0m \u001b[1m322s\u001b[0m 168ms/step - loss: 13.6999 - val_loss: 9.6828\n",
            "Epoch 49/100\n",
            "\u001b[1m1842/1842\u001b[0m \u001b[32m━━━━━━━━━━━━━━━━━━━━\u001b[0m\u001b[37m\u001b[0m \u001b[1m322s\u001b[0m 169ms/step - loss: 13.7424 - val_loss: 9.3111\n",
            "Epoch 50/100\n",
            "\u001b[1m1842/1842\u001b[0m \u001b[32m━━━━━━━━━━━━━━━━━━━━\u001b[0m\u001b[37m\u001b[0m \u001b[1m304s\u001b[0m 159ms/step - loss: 13.4129 - val_loss: 8.9207\n",
            "Epoch 51/100\n",
            "\u001b[1m1842/1842\u001b[0m \u001b[32m━━━━━━━━━━━━━━━━━━━━\u001b[0m\u001b[37m\u001b[0m \u001b[1m312s\u001b[0m 169ms/step - loss: 13.7845 - val_loss: 8.2758\n",
            "Epoch 52/100\n",
            "\u001b[1m1842/1842\u001b[0m \u001b[32m━━━━━━━━━━━━━━━━━━━━\u001b[0m\u001b[37m\u001b[0m \u001b[1m320s\u001b[0m 168ms/step - loss: 13.3967 - val_loss: 8.7381\n",
            "Epoch 53/100\n",
            "\u001b[1m1842/1842\u001b[0m \u001b[32m━━━━━━━━━━━━━━━━━━━━\u001b[0m\u001b[37m\u001b[0m \u001b[1m292s\u001b[0m 158ms/step - loss: 13.2886 - val_loss: 8.8975\n",
            "Epoch 54/100\n",
            "\u001b[1m1842/1842\u001b[0m \u001b[32m━━━━━━━━━━━━━━━━━━━━\u001b[0m\u001b[37m\u001b[0m \u001b[1m311s\u001b[0m 169ms/step - loss: 13.3647 - val_loss: 8.8000\n",
            "Epoch 55/100\n",
            "\u001b[1m1842/1842\u001b[0m \u001b[32m━━━━━━━━━━━━━━━━━━━━\u001b[0m\u001b[37m\u001b[0m \u001b[1m310s\u001b[0m 169ms/step - loss: 13.1774 - val_loss: 8.1761\n",
            "Epoch 56/100\n",
            "\u001b[1m1842/1842\u001b[0m \u001b[32m━━━━━━━━━━━━━━━━━━━━\u001b[0m\u001b[37m\u001b[0m \u001b[1m325s\u001b[0m 170ms/step - loss: 13.0722 - val_loss: 8.1693\n",
            "Epoch 57/100\n",
            "\u001b[1m1842/1842\u001b[0m \u001b[32m━━━━━━━━━━━━━━━━━━━━\u001b[0m\u001b[37m\u001b[0m \u001b[1m320s\u001b[0m 170ms/step - loss: 12.8648 - val_loss: 8.9098\n",
            "Epoch 58/100\n",
            "\u001b[1m1842/1842\u001b[0m \u001b[32m━━━━━━━━━━━━━━━━━━━━\u001b[0m\u001b[37m\u001b[0m \u001b[1m304s\u001b[0m 160ms/step - loss: 13.4614 - val_loss: 8.7908\n",
            "Epoch 59/100\n",
            "\u001b[1m1842/1842\u001b[0m \u001b[32m━━━━━━━━━━━━━━━━━━━━\u001b[0m\u001b[37m\u001b[0m \u001b[1m311s\u001b[0m 169ms/step - loss: 12.8684 - val_loss: 7.9159\n",
            "Epoch 60/100\n",
            "\u001b[1m1842/1842\u001b[0m \u001b[32m━━━━━━━━━━━━━━━━━━━━\u001b[0m\u001b[37m\u001b[0m \u001b[1m324s\u001b[0m 170ms/step - loss: 12.6710 - val_loss: 8.1255\n",
            "Epoch 61/100\n",
            "\u001b[1m1842/1842\u001b[0m \u001b[32m━━━━━━━━━━━━━━━━━━━━\u001b[0m\u001b[37m\u001b[0m \u001b[1m321s\u001b[0m 169ms/step - loss: 12.5810 - val_loss: 8.1067\n",
            "Epoch 62/100\n",
            "\u001b[1m1842/1842\u001b[0m \u001b[32m━━━━━━━━━━━━━━━━━━━━\u001b[0m\u001b[37m\u001b[0m \u001b[1m324s\u001b[0m 170ms/step - loss: 12.5132 - val_loss: 7.8578\n",
            "Epoch 63/100\n",
            "\u001b[1m1842/1842\u001b[0m \u001b[32m━━━━━━━━━━━━━━━━━━━━\u001b[0m\u001b[37m\u001b[0m \u001b[1m319s\u001b[0m 169ms/step - loss: 12.6880 - val_loss: 8.1456\n",
            "Epoch 64/100\n",
            "\u001b[1m1842/1842\u001b[0m \u001b[32m━━━━━━━━━━━━━━━━━━━━\u001b[0m\u001b[37m\u001b[0m \u001b[1m322s\u001b[0m 169ms/step - loss: 12.4733 - val_loss: 7.9209\n",
            "Epoch 65/100\n",
            "\u001b[1m1842/1842\u001b[0m \u001b[32m━━━━━━━━━━━━━━━━━━━━\u001b[0m\u001b[37m\u001b[0m \u001b[1m323s\u001b[0m 170ms/step - loss: 12.5192 - val_loss: 8.3445\n",
            "Epoch 66/100\n",
            "\u001b[1m1842/1842\u001b[0m \u001b[32m━━━━━━━━━━━━━━━━━━━━\u001b[0m\u001b[37m\u001b[0m \u001b[1m301s\u001b[0m 159ms/step - loss: 12.4768 - val_loss: 7.9234\n",
            "Epoch 67/100\n",
            "\u001b[1m1842/1842\u001b[0m \u001b[32m━━━━━━━━━━━━━━━━━━━━\u001b[0m\u001b[37m\u001b[0m \u001b[1m340s\u001b[0m 169ms/step - loss: 12.2610 - val_loss: 10.2318\n",
            "Epoch 68/100\n",
            "\u001b[1m1842/1842\u001b[0m \u001b[32m━━━━━━━━━━━━━━━━━━━━\u001b[0m\u001b[37m\u001b[0m \u001b[1m322s\u001b[0m 169ms/step - loss: 12.7498 - val_loss: 7.5808\n",
            "Epoch 69/100\n",
            "\u001b[1m1842/1842\u001b[0m \u001b[32m━━━━━━━━━━━━━━━━━━━━\u001b[0m\u001b[37m\u001b[0m \u001b[1m305s\u001b[0m 160ms/step - loss: 12.1300 - val_loss: 7.2590\n",
            "Epoch 70/100\n",
            "\u001b[1m1842/1842\u001b[0m \u001b[32m━━━━━━━━━━━━━━━━━━━━\u001b[0m\u001b[37m\u001b[0m \u001b[1m340s\u001b[0m 169ms/step - loss: 11.9623 - val_loss: 7.9303\n",
            "Epoch 71/100\n",
            "\u001b[1m1842/1842\u001b[0m \u001b[32m━━━━━━━━━━━━━━━━━━━━\u001b[0m\u001b[37m\u001b[0m \u001b[1m325s\u001b[0m 171ms/step - loss: 12.2411 - val_loss: 7.3308\n",
            "Epoch 72/100\n",
            "\u001b[1m1842/1842\u001b[0m \u001b[32m━━━━━━━━━━━━━━━━━━━━\u001b[0m\u001b[37m\u001b[0m \u001b[1m321s\u001b[0m 171ms/step - loss: 12.0078 - val_loss: 8.0381\n",
            "Epoch 73/100\n",
            "\u001b[1m1842/1842\u001b[0m \u001b[32m━━━━━━━━━━━━━━━━━━━━\u001b[0m\u001b[37m\u001b[0m \u001b[1m315s\u001b[0m 171ms/step - loss: 12.1123 - val_loss: 8.1940\n",
            "Epoch 74/100\n",
            "\u001b[1m1842/1842\u001b[0m \u001b[32m━━━━━━━━━━━━━━━━━━━━\u001b[0m\u001b[37m\u001b[0m \u001b[1m322s\u001b[0m 171ms/step - loss: 12.1218 - val_loss: 7.3920\n",
            "Epoch 75/100\n",
            "\u001b[1m1842/1842\u001b[0m \u001b[32m━━━━━━━━━━━━━━━━━━━━\u001b[0m\u001b[37m\u001b[0m \u001b[1m319s\u001b[0m 169ms/step - loss: 11.9593 - val_loss: 8.0528\n",
            "Epoch 76/100\n",
            "\u001b[1m1842/1842\u001b[0m \u001b[32m━━━━━━━━━━━━━━━━━━━━\u001b[0m\u001b[37m\u001b[0m \u001b[1m312s\u001b[0m 169ms/step - loss: 11.8094 - val_loss: 7.5107\n",
            "Epoch 77/100\n",
            "\u001b[1m1842/1842\u001b[0m \u001b[32m━━━━━━━━━━━━━━━━━━━━\u001b[0m\u001b[37m\u001b[0m \u001b[1m325s\u001b[0m 171ms/step - loss: 11.7144 - val_loss: 7.3935\n",
            "Epoch 78/100\n",
            "\u001b[1m1842/1842\u001b[0m \u001b[32m━━━━━━━━━━━━━━━━━━━━\u001b[0m\u001b[37m\u001b[0m \u001b[1m300s\u001b[0m 159ms/step - loss: 11.6832 - val_loss: 7.9059\n",
            "Epoch 79/100\n",
            "\u001b[1m1842/1842\u001b[0m \u001b[32m━━━━━━━━━━━━━━━━━━━━\u001b[0m\u001b[37m\u001b[0m \u001b[1m339s\u001b[0m 169ms/step - loss: 11.7509 - val_loss: 7.1785\n",
            "Epoch 80/100\n",
            "\u001b[1m1842/1842\u001b[0m \u001b[32m━━━━━━━━━━━━━━━━━━━━\u001b[0m\u001b[37m\u001b[0m \u001b[1m323s\u001b[0m 169ms/step - loss: 11.6285 - val_loss: 7.5557\n",
            "Epoch 81/100\n",
            "\u001b[1m1842/1842\u001b[0m \u001b[32m━━━━━━━━━━━━━━━━━━━━\u001b[0m\u001b[37m\u001b[0m \u001b[1m296s\u001b[0m 160ms/step - loss: 11.5708 - val_loss: 6.9194\n",
            "Epoch 82/100\n",
            "\u001b[1m1842/1842\u001b[0m \u001b[32m━━━━━━━━━━━━━━━━━━━━\u001b[0m\u001b[37m\u001b[0m \u001b[1m314s\u001b[0m 171ms/step - loss: 11.7319 - val_loss: 7.1049\n",
            "Epoch 83/100\n",
            "\u001b[1m1842/1842\u001b[0m \u001b[32m━━━━━━━━━━━━━━━━━━━━\u001b[0m\u001b[37m\u001b[0m \u001b[1m315s\u001b[0m 171ms/step - loss: 11.5001 - val_loss: 7.2809\n",
            "Epoch 84/100\n",
            "\u001b[1m1842/1842\u001b[0m \u001b[32m━━━━━━━━━━━━━━━━━━━━\u001b[0m\u001b[37m\u001b[0m \u001b[1m323s\u001b[0m 172ms/step - loss: 11.4432 - val_loss: 7.4449\n",
            "Epoch 85/100\n",
            "\u001b[1m1842/1842\u001b[0m \u001b[32m━━━━━━━━━━━━━━━━━━━━\u001b[0m\u001b[37m\u001b[0m \u001b[1m322s\u001b[0m 172ms/step - loss: 11.3117 - val_loss: 7.2905\n",
            "Epoch 86/100\n",
            "\u001b[1m1842/1842\u001b[0m \u001b[32m━━━━━━━━━━━━━━━━━━━━\u001b[0m\u001b[37m\u001b[0m \u001b[1m317s\u001b[0m 172ms/step - loss: 11.2946 - val_loss: 6.9184\n",
            "Epoch 87/100\n",
            "\u001b[1m1842/1842\u001b[0m \u001b[32m━━━━━━━━━━━━━━━━━━━━\u001b[0m\u001b[37m\u001b[0m \u001b[1m321s\u001b[0m 171ms/step - loss: 11.2959 - val_loss: 7.4634\n",
            "Epoch 88/100\n",
            "\u001b[1m1842/1842\u001b[0m \u001b[32m━━━━━━━━━━━━━━━━━━━━\u001b[0m\u001b[37m\u001b[0m \u001b[1m315s\u001b[0m 171ms/step - loss: 11.2646 - val_loss: 7.2188\n",
            "Epoch 89/100\n",
            "\u001b[1m1842/1842\u001b[0m \u001b[32m━━━━━━━━━━━━━━━━━━━━\u001b[0m\u001b[37m\u001b[0m \u001b[1m321s\u001b[0m 171ms/step - loss: 11.5977 - val_loss: 7.1593\n",
            "Epoch 90/100\n",
            "\u001b[1m1842/1842\u001b[0m \u001b[32m━━━━━━━━━━━━━━━━━━━━\u001b[0m\u001b[37m\u001b[0m \u001b[1m322s\u001b[0m 171ms/step - loss: 11.2501 - val_loss: 7.9040\n",
            "Epoch 91/100\n",
            "\u001b[1m1842/1842\u001b[0m \u001b[32m━━━━━━━━━━━━━━━━━━━━\u001b[0m\u001b[37m\u001b[0m \u001b[1m320s\u001b[0m 170ms/step - loss: 11.1754 - val_loss: 7.3065\n",
            "Epoch 92/100\n",
            "\u001b[1m1842/1842\u001b[0m \u001b[32m━━━━━━━━━━━━━━━━━━━━\u001b[0m\u001b[37m\u001b[0m \u001b[1m305s\u001b[0m 161ms/step - loss: 11.1310 - val_loss: 7.6703\n",
            "Epoch 93/100\n",
            "\u001b[1m1842/1842\u001b[0m \u001b[32m━━━━━━━━━━━━━━━━━━━━\u001b[0m\u001b[37m\u001b[0m \u001b[1m338s\u001b[0m 169ms/step - loss: 11.7284 - val_loss: 8.1420\n",
            "Epoch 94/100\n",
            "\u001b[1m1842/1842\u001b[0m \u001b[32m━━━━━━━━━━━━━━━━━━━━\u001b[0m\u001b[37m\u001b[0m \u001b[1m315s\u001b[0m 171ms/step - loss: 11.1596 - val_loss: 7.6751\n",
            "Epoch 95/100\n",
            "\u001b[1m1842/1842\u001b[0m \u001b[32m━━━━━━━━━━━━━━━━━━━━\u001b[0m\u001b[37m\u001b[0m \u001b[1m318s\u001b[0m 169ms/step - loss: 11.1801 - val_loss: 7.0395\n",
            "Epoch 96/100\n",
            "\u001b[1m1842/1842\u001b[0m \u001b[32m━━━━━━━━━━━━━━━━━━━━\u001b[0m\u001b[37m\u001b[0m \u001b[1m323s\u001b[0m 169ms/step - loss: 11.1419 - val_loss: 7.5145\n"
          ]
        }
      ],
      "source": [
        "from tensorflow.keras.callbacks import EarlyStopping\n",
        "\n",
        "early_stop = EarlyStopping(monitor='val_loss', patience=10, restore_best_weights=True)\n",
        "\n",
        "history = model_lstm.fit(\n",
        "    X_train_lstm, y_train_lstm,\n",
        "    validation_data=(X_val_lstm, y_val_lstm),\n",
        "    epochs=100,\n",
        "    batch_size=64,\n",
        "    callbacks=[early_stop]\n",
        ")\n"
      ]
    },
    {
      "cell_type": "code",
      "execution_count": 58,
      "metadata": {
        "colab": {
          "base_uri": "https://localhost:8080/"
        },
        "id": "-Ph_dWQ3gIyx",
        "outputId": "101e4710-fbe3-44ed-cc25-639a5fec3190"
      },
      "outputs": [
        {
          "name": "stdout",
          "output_type": "stream",
          "text": [
            "\u001b[1m921/921\u001b[0m \u001b[32m━━━━━━━━━━━━━━━━━━━━\u001b[0m\u001b[37m\u001b[0m \u001b[1m30s\u001b[0m 32ms/step\n",
            "🔹 LSTM Results\n",
            "MAE  = 6.92\n",
            "RMSE = 17.41\n",
            "R²   = 0.97\n"
          ]
        }
      ],
      "source": [
        "from sklearn.metrics import mean_absolute_error, mean_squared_error, r2_score\n",
        "\n",
        "y_pred_lstm = model_lstm.predict(X_val_lstm).flatten()\n",
        "\n",
        "mae_lstm = mean_absolute_error(y_val_lstm, y_pred_lstm)\n",
        "rmse_lstm = np.sqrt(mean_squared_error(y_val_lstm, y_pred_lstm))\n",
        "r2_lstm = r2_score(y_val_lstm, y_pred_lstm)\n",
        "\n",
        "print(\"🔹 LSTM Results\")\n",
        "print(f\"MAE  = {mae_lstm:.2f}\")\n",
        "print(f\"RMSE = {rmse_lstm:.2f}\")\n",
        "print(f\"R²   = {r2_lstm:.2f}\")\n"
      ]
    },
    {
      "cell_type": "code",
      "execution_count": 59,
      "metadata": {
        "colab": {
          "base_uri": "https://localhost:8080/",
          "height": 472
        },
        "id": "EIifKdHkgSM9",
        "outputId": "b9c7636f-43fe-4068-98b8-dca6926cd2af"
      },
      "outputs": [
        {
          "data": {
            "image/png": "[encoded data removed]",
            "text/plain": [
              "<Figure size 640x480 with 1 Axes>"
            ]
          },
          "metadata": {},
          "output_type": "display_data"
        }
      ],
      "source": [
        "import matplotlib.pyplot as plt\n",
        "\n",
        "plt.plot(history.history['loss'], label='Train Loss')\n",
        "plt.plot(history.history['val_loss'], label='Validation Loss')\n",
        "plt.title(\"LSTM Training Curve\")\n",
        "plt.xlabel(\"Epoch\")\n",
        "plt.ylabel(\"MAE Loss\")\n",
        "plt.legend()\n",
        "plt.grid(True)\n",
        "plt.show()\n"
      ]
    },
    {
      "cell_type": "code",
      "execution_count": null,
      "metadata": {
        "colab": {
          "base_uri": "https://localhost:8080/"
        },
        "id": "TKY1fuAAg2R9",
        "outputId": "e78e27dc-98a5-4996-d79d-8c451293d6de"
      },
      "outputs": [
        {
          "name": "stdout",
          "output_type": "stream",
          "text": [
            "Model Comparison:\n",
            "               Model    MAE   RMSE    R²\n",
            "0  Linear Regression  49.11  64.02  0.55\n",
            "1               LSTM   6.92  17.41  0.97\n"
          ]
        }
      ],
      "source": [
        "import pandas as pd\n",
        "\n",
        "\n",
        "mae_lr = 49.11\n",
        "rmse_lr = 64.02\n",
        "r2_lr = 0.55\n",
        "\n",
        "mae_lstm = 6.92\n",
        "rmse_lstm = 17.41\n",
        "r2_lstm = 0.97\n",
        "\n",
        "\n",
        "results = {\n",
        "    \"Model\": [\"Linear Regression\", \"LSTM\"],\n",
        "    \"MAE\": [mae_lr, mae_lstm],\n",
        "    \"RMSE\": [rmse_lr, rmse_lstm],\n",
        "    \"R²\": [r2_lr, r2_lstm]\n",
        "}\n",
        "\n",
        "\n",
        "comparison_df = pd.DataFrame(results)\n",
        "\n",
        "\n",
        "print(\"Model Comparison:\")\n",
        "print(comparison_df)\n"
      ]
    },
    {
      "cell_type": "markdown",
      "metadata": {
        "id": "SsZwiXsYhQWI"
      },
      "source": [
        "# Evaluate LSTM"
      ]
    },
    {
      "cell_type": "code",
      "execution_count": 61,
      "metadata": {
        "id": "FSX8xDB3hTnO"
      },
      "outputs": [],
      "source": [
        "# Load and clean test data\n",
        "cols = ['id', 'cycle', 'setting1', 'setting2', 'setting3'] + [f'sensor{i}' for i in range(1, 22)]\n",
        "test_df = pd.read_csv(\"test_FD001.txt\", sep='\\s+', header=None)\n",
        "test_df.columns = cols\n",
        "\n",
        "# Load corresponding RUL\n",
        "rul_df = pd.read_csv(\"RUL_FD001.txt\", header=None)\n",
        "rul_df.columns = ['RUL']\n"
      ]
    },
    {
      "cell_type": "markdown",
      "metadata": {
        "id": "AiMFUeTOhZ-O"
      },
      "source": [
        "# Add RUL to Each Test Row"
      ]
    },
    {
      "cell_type": "code",
      "execution_count": 62,
      "metadata": {
        "id": "DADgul8thc9X"
      },
      "outputs": [],
      "source": [
        "def add_test_rul(test_df, rul_df):\n",
        "    max_cycle_df = test_df.groupby('id')['cycle'].max().reset_index()\n",
        "    max_cycle_df.columns = ['id', 'max_cycle']\n",
        "    max_cycle_df['true_rul'] = rul_df['RUL']\n",
        "\n",
        "    test_df = test_df.merge(max_cycle_df, on='id')\n",
        "    test_df['RUL'] = test_df['true_rul'] + (test_df['max_cycle'] - test_df['cycle'])\n",
        "\n",
        "    return test_df.drop(columns=['max_cycle', 'true_rul'])\n",
        "\n",
        "test_df = add_test_rul(test_df, rul_df)\n"
      ]
    },
    {
      "cell_type": "markdown",
      "metadata": {
        "id": "EGgMC2Sihi6v"
      },
      "source": [
        " Normalize Using FD001"
      ]
    },
    {
      "cell_type": "code",
      "execution_count": null,
      "metadata": {
        "id": "XNR4Nl684_l-"
      },
      "outputs": [],
      "source": [
        "\n",
        "max_cycle = test_df.groupby('id')['cycle'].transform('max')\n",
        "test_df['cycle_ratio'] = test_df['cycle'] / max_cycle\n"
      ]
    },
    {
      "cell_type": "code",
      "execution_count": 64,
      "metadata": {
        "id": "GzYeJDkMhjFB"
      },
      "outputs": [],
      "source": [
        "from sklearn.preprocessing import StandardScaler\n",
        "import joblib\n",
        "\n",
        "\n",
        "scaler_fd001 = scalers['FD001']\n",
        "\n",
        "test_df[useful_features] = scaler_fd001.transform(test_df[useful_features])\n"
      ]
    },
    {
      "cell_type": "markdown",
      "metadata": {
        "id": "HekpDNd0hs5f"
      },
      "source": [
        "Predict RUL per Engine Using LSTM"
      ]
    },
    {
      "cell_type": "code",
      "execution_count": null,
      "metadata": {
        "id": "prkhgKcchoxw"
      },
      "outputs": [],
      "source": [
        "def predict_test_engine_rul(engine_id, test_df, model, features, window_size=30):\n",
        "    engine_data = test_df[test_df['id'] == engine_id]\n",
        "    if len(engine_data) < window_size:\n",
        "        return None  \n",
        "\n",
        "    last_seq = engine_data[-window_size:][features].values\n",
        "    last_seq = last_seq.reshape(1, window_size, len(features))\n",
        "    prediction = model.predict(last_seq, verbose=0)\n",
        "    return float(prediction[0][0])\n"
      ]
    },
    {
      "cell_type": "code",
      "execution_count": null,
      "metadata": {
        "id": "uxDhE59NhyMM"
      },
      "outputs": [],
      "source": [
        "predicted_ruls = []\n",
        "actual_ruls = rul_df['RUL'].values.flatten()\n",
        "\n",
        "for eng_id in test_df['id'].unique():\n",
        "    pred = predict_test_engine_rul(eng_id, test_df, model_lstm, useful_features)\n",
        "    predicted_ruls.append(pred)\n",
        "\n",
        "\n",
        "filtered_preds = [p for p in predicted_ruls if p is not None]\n",
        "filtered_actuals = actual_ruls[:len(filtered_preds)]\n"
      ]
    },
    {
      "cell_type": "code",
      "execution_count": null,
      "metadata": {
        "colab": {
          "base_uri": "https://localhost:8080/"
        },
        "id": "QtcihsoBh65s",
        "outputId": "dca5e472-e5c4-4370-e1a0-c992acabaac2"
      },
      "outputs": [
        {
          "name": "stdout",
          "output_type": "stream",
          "text": [
            "📉 Test Evaluation (FD001):\n",
            "MAE  = 38.23\n",
            "RMSE = 48.67\n"
          ]
        }
      ],
      "source": [
        "from sklearn.metrics import mean_absolute_error, mean_squared_error\n",
        "\n",
        "mae_test = mean_absolute_error(filtered_actuals, filtered_preds)\n",
        "rmse_test = mean_squared_error(filtered_actuals, filtered_preds) ** 0.5\n",
        "\n",
        "print(\"Test Evaluation (FD001):\")\n",
        "print(f\"MAE  = {mae_test:.2f}\")\n",
        "print(f\"RMSE = {rmse_test:.2f}\")\n"
      ]
    },
    {
      "cell_type": "code",
      "execution_count": null,
      "metadata": {
        "id": "S7khDSGsky1k"
      },
      "outputs": [],
      "source": [
        "def evaluate_test_fd(test_file, rul_file, scaler, model, features, window_size=30):\n",
        "    # Load and clean test set\n",
        "    test_df = pd.read_csv(test_file, sep='\\s+', header=None)\n",
        "    test_df.columns = ['id', 'cycle', 'setting1', 'setting2', 'setting3'] + [f'sensor{i}' for i in range(1, 22)]\n",
        "\n",
        "    # Load RULs\n",
        "    rul_df = pd.read_csv(rul_file, header=None)\n",
        "    rul_df.columns = ['RUL']\n",
        "\n",
        "    # Add calculated RUL to test set\n",
        "    max_cycle_df = test_df.groupby('id')['cycle'].max().reset_index()\n",
        "    max_cycle_df.columns = ['id', 'max_cycle']\n",
        "    max_cycle_df['true_rul'] = rul_df['RUL']\n",
        "    test_df = test_df.merge(max_cycle_df, on='id')\n",
        "    test_df['RUL'] = test_df['true_rul'] + (test_df['max_cycle'] - test_df['cycle'])\n",
        "    test_df.drop(columns=['max_cycle', 'true_rul'], inplace=True)\n",
        "\n",
        "    \n",
        "    max_cycle = test_df.groupby('id')['cycle'].transform('max')\n",
        "    test_df['cycle_ratio'] = test_df['cycle'] / max_cycle\n",
        "\n",
        "    # Normalize\n",
        "    test_df[features] = scaler.transform(test_df[features])\n",
        "\n",
        "    # Predict for each engine\n",
        "    predicted_ruls = []\n",
        "    for eng_id in test_df['id'].unique():\n",
        "        engine_data = test_df[test_df['id'] == eng_id]\n",
        "        if len(engine_data) < window_size:\n",
        "            continue\n",
        "        last_seq = engine_data[-window_size:][features].values\n",
        "        last_seq = last_seq.reshape(1, window_size, len(features))\n",
        "        pred = model.predict(last_seq, verbose=0)\n",
        "        predicted_ruls.append(pred[0][0])\n",
        "\n",
        "    actual_ruls = rul_df['RUL'].values[:len(predicted_ruls)]\n",
        "    mae = mean_absolute_error(actual_ruls, predicted_ruls)\n",
        "    rmse = np.sqrt(mean_squared_error(actual_ruls, predicted_ruls))\n",
        "\n",
        "    return mae, rmse\n"
      ]
    },
    {
      "cell_type": "code",
      "execution_count": 73,
      "metadata": {
        "colab": {
          "base_uri": "https://localhost:8080/"
        },
        "id": "NCLbSH6Jk2MK",
        "outputId": "a9baa567-46b3-4da1-c3a4-f3eb73956959"
      },
      "outputs": [
        {
          "name": "stdout",
          "output_type": "stream",
          "text": [
            "  Dataset        MAE       RMSE\n",
            "0   FD001  38.226697  48.671395\n",
            "1   FD002  57.459396  72.328597\n",
            "2   FD003  30.132533  38.357233\n",
            "3   FD004  61.410453  75.419157\n"
          ]
        }
      ],
      "source": [
        "results = []\n",
        "\n",
        "datasets = ['FD001', 'FD002', 'FD003', 'FD004']\n",
        "test_files = ['test_FD001.txt', 'test_FD002.txt', 'test_FD003.txt', 'test_FD004.txt']\n",
        "rul_files = ['RUL_FD001.txt', 'RUL_FD002.txt', 'RUL_FD003.txt', 'RUL_FD004.txt']\n",
        "\n",
        "for tag, test_file, rul_file in zip(datasets, test_files, rul_files):\n",
        "    mae, rmse = evaluate_test_fd(test_file, rul_file, scalers[tag], model_lstm, useful_features)\n",
        "    results.append({'Dataset': tag, 'MAE': mae, 'RMSE': rmse})\n",
        "\n",
        "eval_df = pd.DataFrame(results)\n",
        "print(eval_df)\n"
      ]
    },
    {
      "cell_type": "code",
      "execution_count": 74,
      "metadata": {
        "colab": {
          "base_uri": "https://localhost:8080/",
          "height": 676
        },
        "id": "0yiLRNgtleqB",
        "outputId": "efd0e5e5-6728-47a9-d71f-cc229e27a7bd"
      },
      "outputs": [
        {
          "name": "stderr",
          "output_type": "stream",
          "text": [
            "<ipython-input-74-c4af56e8d7a8>:28: UserWarning: Glyph 128202 (\\N{BAR CHART}) missing from font(s) DejaVu Sans.\n",
            "  plt.tight_layout()\n",
            "/usr/local/lib/python3.11/dist-packages/IPython/core/pylabtools.py:151: UserWarning: Glyph 128202 (\\N{BAR CHART}) missing from font(s) DejaVu Sans.\n",
            "  fig.canvas.print_figure(bytes_io, **kw)\n"
          ]
        },
        {
          "data": {
            "image/png": "[encoded data removed]",
            "text/plain": [
              "<Figure size 1000x600 with 1 Axes>"
            ]
          },
          "metadata": {},
          "output_type": "display_data"
        }
      ],
      "source": [
        "import matplotlib.pyplot as plt\n",
        "import pandas as pd\n",
        "\n",
        "# Updated evaluation results\n",
        "eval_df = pd.DataFrame({\n",
        "    \"Dataset\": [\"FD001\", \"FD002\", \"FD003\", \"FD004\"],\n",
        "    \"MAE\": [38.23, 57.46, 30.13, 61.41],\n",
        "    \"RMSE\": [48.67, 72.33, 38.36, 75.42]\n",
        "})\n",
        "\n",
        "# Plot setup\n",
        "plt.figure(figsize=(10, 6))\n",
        "x = range(len(eval_df))\n",
        "bar_width = 0.35\n",
        "\n",
        "# Bars\n",
        "plt.bar(x, eval_df['MAE'], width=bar_width, label='MAE', color='skyblue')\n",
        "plt.bar([i + bar_width for i in x], eval_df['RMSE'], width=bar_width, label='RMSE', color='salmon')\n",
        "\n",
        "# Labels & Style\n",
        "plt.xlabel(\"Dataset\")\n",
        "plt.ylabel(\"Score\")\n",
        "plt.title(\"LSTM Model Evaluation (Test Sets FD001–FD004)\")\n",
        "plt.xticks([i + bar_width/2 for i in x], eval_df['Dataset'])\n",
        "plt.legend()\n",
        "plt.grid(True, linestyle=\"--\", alpha=0.3)\n",
        "\n",
        "plt.tight_layout()\n",
        "plt.show()\n"
      ]
    },
    {
      "cell_type": "code",
      "execution_count": 75,
      "metadata": {
        "colab": {
          "base_uri": "https://localhost:8080/"
        },
        "id": "Envm0oG9oMtW",
        "outputId": "2332505d-70ee-452b-f9c5-eb21346b803c"
      },
      "outputs": [
        {
          "name": "stderr",
          "output_type": "stream",
          "text": [
            "WARNING:absl:You are saving your model as an HDF5 file via `model.save()` or `keras.saving.save_model(model)`. This file format is considered legacy. We recommend using instead the native Keras format, e.g. `model.save('my_model.keras')` or `keras.saving.save_model(model, 'my_model.keras')`. \n"
          ]
        },
        {
          "data": {
            "text/plain": [
              "['rul_scaler.pkl']"
            ]
          },
          "execution_count": 75,
          "metadata": {},
          "output_type": "execute_result"
        }
      ],
      "source": [
        "# Save model and scaler\n",
        "model_lstm.save(\"lstm_rul_model.h5\")\n",
        "\n",
        "import joblib\n",
        "joblib.dump(scaler, \"rul_scaler.pkl\")\n"
      ]
    },
    {
      "cell_type": "code",
      "execution_count": 76,
      "metadata": {
        "colab": {
          "base_uri": "https://localhost:8080/",
          "height": 17
        },
        "id": "E7qhccs4oXCe",
        "outputId": "42377286-530b-44c0-d056-11b0e929eae5"
      },
      "outputs": [
        {
          "data": {
            "application/javascript": "\n    async function download(id, filename, size) {\n      if (!google.colab.kernel.accessAllowed) {\n        return;\n      }\n      const div = document.createElement('div');\n      const label = document.createElement('label');\n      label.textContent = `Downloading \"${filename}\": `;\n      div.appendChild(label);\n      const progress = document.createElement('progress');\n      progress.max = size;\n      div.appendChild(progress);\n      document.body.appendChild(div);\n\n      const buffers = [];\n      let downloaded = 0;\n\n      const channel = await google.colab.kernel.comms.open(id);\n      // Send a message to notify the kernel that we're ready.\n      channel.send({})\n\n      for await (const message of channel.messages) {\n        // Send a message to notify the kernel that we're ready.\n        channel.send({})\n        if (message.buffers) {\n          for (const buffer of message.buffers) {\n            buffers.push(buffer);\n            downloaded += buffer.byteLength;\n            progress.value = downloaded;\n          }\n        }\n      }\n      const blob = new Blob(buffers, {type: 'application/binary'});\n      const a = document.createElement('a');\n      a.href = window.URL.createObjectURL(blob);\n      a.download = filename;\n      div.appendChild(a);\n      a.click();\n      div.remove();\n    }\n  ",
            "text/plain": [
              "<IPython.core.display.Javascript object>"
            ]
          },
          "metadata": {},
          "output_type": "display_data"
        },
        {
          "data": {
            "application/javascript": "download(\"download_de66b438-3bf1-49bf-8598-1d9659987e9a\", \"lstm_rul_model.h5\", 1553936)",
            "text/plain": [
              "<IPython.core.display.Javascript object>"
            ]
          },
          "metadata": {},
          "output_type": "display_data"
        },
        {
          "data": {
            "application/javascript": "\n    async function download(id, filename, size) {\n      if (!google.colab.kernel.accessAllowed) {\n        return;\n      }\n      const div = document.createElement('div');\n      const label = document.createElement('label');\n      label.textContent = `Downloading \"${filename}\": `;\n      div.appendChild(label);\n      const progress = document.createElement('progress');\n      progress.max = size;\n      div.appendChild(progress);\n      document.body.appendChild(div);\n\n      const buffers = [];\n      let downloaded = 0;\n\n      const channel = await google.colab.kernel.comms.open(id);\n      // Send a message to notify the kernel that we're ready.\n      channel.send({})\n\n      for await (const message of channel.messages) {\n        // Send a message to notify the kernel that we're ready.\n        channel.send({})\n        if (message.buffers) {\n          for (const buffer of message.buffers) {\n            buffers.push(buffer);\n            downloaded += buffer.byteLength;\n            progress.value = downloaded;\n          }\n        }\n      }\n      const blob = new Blob(buffers, {type: 'application/binary'});\n      const a = document.createElement('a');\n      a.href = window.URL.createObjectURL(blob);\n      a.download = filename;\n      div.appendChild(a);\n      a.click();\n      div.remove();\n    }\n  ",
            "text/plain": [
              "<IPython.core.display.Javascript object>"
            ]
          },
          "metadata": {},
          "output_type": "display_data"
        },
        {
          "data": {
            "application/javascript": "download(\"download_b1452072-915a-4128-a814-e277f412a32f\", \"rul_scaler.pkl\", 1711)",
            "text/plain": [
              "<IPython.core.display.Javascript object>"
            ]
          },
          "metadata": {},
          "output_type": "display_data"
        }
      ],
      "source": [
        "from google.colab import files\n",
        "files.download(\"lstm_rul_model.h5\")\n",
        "files.download(\"rul_scaler.pkl\")"
      ]
    }
  ],
  "metadata": {
    "colab": {
      "provenance": []
    },
    "kernelspec": {
      "display_name": "Python 3",
      "name": "python3"
    },
    "language_info": {
      "name": "python"
    }
  },
  "nbformat": 4,
  "nbformat_minor": 0
}
